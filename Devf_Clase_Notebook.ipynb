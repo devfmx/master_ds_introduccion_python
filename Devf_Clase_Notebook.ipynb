{
  "nbformat": 4,
  "nbformat_minor": 0,
  "metadata": {
    "colab": {
      "name": "Devf Clase Notebook",
      "provenance": [],
      "collapsed_sections": [
        "0bhxnrX4w-o4",
        "DJCciZBl2WqD",
        "t_6e_dsQUvr3",
        "61X8NMMBVffP",
        "5bSNSRVdZ8EN",
        "vNgH8O-I1xgZ",
        "wdWbdAGP4Gsz",
        "_dtBYs4g3Lvk",
        "95xRtMpBnSWd",
        "Xf2bOvD-eBy7",
        "5MegzLaxmcmP",
        "FuBfo2YaAuB1"
      ],
      "toc_visible": true,
      "authorship_tag": "ABX9TyOG0/+5Qo1AA0/ZLgkn3dXW",
      "include_colab_link": true
    },
    "kernelspec": {
      "name": "python3",
      "display_name": "Python 3"
    },
    "language_info": {
      "name": "python"
    }
  },
  "cells": [
    {
      "cell_type": "markdown",
      "metadata": {
        "id": "view-in-github",
        "colab_type": "text"
      },
      "source": [
        "<a href=\"https://colab.research.google.com/github/devfmx/master_ds_introduccion_python/blob/main/Devf_Clase_Notebook.ipynb\" target=\"_parent\"><img src=\"https://colab.research.google.com/assets/colab-badge.svg\" alt=\"Open In Colab\"/></a>"
      ]
    },
    {
      "cell_type": "markdown",
      "source": [
        "<img src=\"https://devf-website.s3.amazonaws.com/static/assets/img/logo-devf-negro.png\" width=\"150\"/> \n",
        "<h3> <strong>Master en Data Science/AI</strong> </h3>\n",
        "<h4> Introducción al lenguaje python </h4>\n",
        "<strong>\n",
        "Sensei: Zelzin Márquez <br>\n",
        "Sensei: Armando Valdés\n",
        "</strong>"
      ],
      "metadata": {
        "id": "ZMqOfrwVH6S0"
      }
    },
    {
      "cell_type": "markdown",
      "source": [
        "## Recapitulando (tipos de variables)"
      ],
      "metadata": {
        "id": "0bhxnrX4w-o4"
      }
    },
    {
      "cell_type": "markdown",
      "source": [
        "Una variable  es la forma más **básica** que existe de almacenar información."
      ],
      "metadata": {
        "id": "bARFOVOCLD9H"
      }
    },
    {
      "cell_type": "code",
      "execution_count": null,
      "metadata": {
        "id": "c8i4f_QXwNfJ",
        "colab": {
          "base_uri": "https://localhost:8080/"
        },
        "outputId": "ab888e10-735c-4327-85e1-350506ee05c1"
      },
      "outputs": [
        {
          "output_type": "execute_result",
          "data": {
            "text/plain": [
              "float"
            ]
          },
          "metadata": {},
          "execution_count": 124
        }
      ],
      "source": [
        "#Tipos de variables\n",
        "\n",
        "#Declarando las variables\n",
        "variable_entero=2  \n",
        "variable_flotante= 5.5\n",
        "variable_string=\"hola amigos\"\n",
        "variable_booleano=True\n",
        "\n",
        "#comprobando el tipo de variable\n",
        "type(variable_flotante)"
      ]
    },
    {
      "cell_type": "markdown",
      "source": [
        "Los  **operadores de cálculo**  nos sirven para computar operaciones aritméticas dentro del código."
      ],
      "metadata": {
        "id": "skbb5zr0M3_u"
      }
    },
    {
      "cell_type": "code",
      "source": [
        "#Declaro dos variables\n",
        "a=10\n",
        "b=3\n",
        "\n",
        "#implemento los operadores de cálculo\n",
        "resultado_1=a+b  #suma\n",
        "resultado_2=a-b #resta\n",
        "resultado_3=a/b # división con decimales\n",
        "resultado_4=a//b # división entera\n",
        "resultado_5=a%b # residuo de la división\n",
        "resultado_6=a*b # multiplicación\n",
        "resultado_7=a**b # exponencial\n",
        "\n",
        "#Verificar los diferentes resultados\n",
        "print(\"la suma de a y b= \", resultado_1)\n",
        "print(\"la resta de a y b= \", resultado_2) \n",
        "\n"
      ],
      "metadata": {
        "id": "8B2E4_s-yZXA",
        "colab": {
          "base_uri": "https://localhost:8080/"
        },
        "outputId": "337b357d-45ce-4a28-cc6b-54463ad52f4e"
      },
      "execution_count": null,
      "outputs": [
        {
          "output_type": "stream",
          "name": "stdout",
          "text": [
            "la suma de a y b=  13\n",
            "la resta de a y b=  7\n"
          ]
        }
      ]
    },
    {
      "cell_type": "markdown",
      "source": [
        "<p style=\"text-aling:justify\">\n",
        "En las últimas versiones se ha agregado al lenguaje python la posibilidad de definir string y dentro hacer la sustitución de variables. <br>\n",
        "Para indicar que un string en python contendrá variables a ser sustituidas debemos anteceder el caracter \"f\":\n",
        "</p>"
      ],
      "metadata": {
        "id": "BlRdYx94Oqgi"
      }
    },
    {
      "cell_type": "code",
      "source": [
        "print(f\"la división con decimales de a y b es {resultado_3}: \\nla división entera de a y b es {resultado_4}\" )"
      ],
      "metadata": {
        "id": "3N7w570aNVIH",
        "colab": {
          "base_uri": "https://localhost:8080/"
        },
        "outputId": "c80125cf-3b34-4f5b-cb5f-7ec1e24fe5e2"
      },
      "execution_count": null,
      "outputs": [
        {
          "output_type": "stream",
          "name": "stdout",
          "text": [
            "la división con decimales de a y b es 3.3333333333333335: \n",
            "la división entera de a y b es 3\n"
          ]
        }
      ]
    },
    {
      "cell_type": "code",
      "source": [
        "#salto de línea se hace con  \\n\n",
        "# round es una función que nos permite redondear round(valor,número de decimales)\n",
        "print(f\"la división con decimales de a y b es {round(resultado_3,1)}: \\nla división entera de a y b es {resultado_4}\" )"
      ],
      "metadata": {
        "id": "6fw4N3FiPOWZ",
        "colab": {
          "base_uri": "https://localhost:8080/"
        },
        "outputId": "282c69c8-0fb7-48f6-f03a-92b2e7845b19"
      },
      "execution_count": null,
      "outputs": [
        {
          "output_type": "stream",
          "name": "stdout",
          "text": [
            "la división con decimales de a y b es 3.3: \n",
            "la división entera de a y b es 3\n"
          ]
        }
      ]
    },
    {
      "cell_type": "code",
      "source": [
        "#otra forma de definir un string y dentro hacer sustitución de variables\n",
        "print(\"la división con decimales de a y b es{} \\nla división entera de a y b es {}\".format(resultado_3,resultado_4))"
      ],
      "metadata": {
        "colab": {
          "base_uri": "https://localhost:8080/"
        },
        "id": "RKJe37bIIAui",
        "outputId": "95f9e76a-ce17-4c98-d78e-da4121e39e4b"
      },
      "execution_count": null,
      "outputs": [
        {
          "output_type": "stream",
          "name": "stdout",
          "text": [
            "la división con decimales de a y b es3.3333333333333335 \n",
            "la división entera de a y b es 3\n"
          ]
        }
      ]
    },
    {
      "cell_type": "code",
      "source": [
        "#otra forma de definir un string y dentro hacer sustitución de variables\n",
        "print(f\"la división con decimales de a y b es {round(resultado_3,1)} \\n\"+\n",
        "      f\"la división entera de a y b es {resultado_4}\\n\"+\n",
        "      f\"la suma entre a y b es {resultado_1}\\n\"+\n",
        "      f\"el residuo de la división entre a y b es {resultado_5}\")"
      ],
      "metadata": {
        "colab": {
          "base_uri": "https://localhost:8080/"
        },
        "id": "v7iK-sqdQBiy",
        "outputId": "e9bbd253-fde0-4263-e5f8-899c078bac5a"
      },
      "execution_count": null,
      "outputs": [
        {
          "output_type": "stream",
          "name": "stdout",
          "text": [
            "la división con decimales de a y b es 3.3 \n",
            "la división entera de a y b es 3\n",
            "la suma entre a y b es 13\n",
            "el residuo de la división entre a y b es 1\n"
          ]
        }
      ]
    },
    {
      "cell_type": "markdown",
      "source": [
        "También podemos aplicar algunos operadores a cadenas de caracteres, por ejemplo el operador \"+\" para concatenar y el operador \"*\" multiplicar el string \"n\" cantidad de veces"
      ],
      "metadata": {
        "id": "xhcHuaYvNqFP"
      }
    },
    {
      "cell_type": "code",
      "source": [
        "print(\"hola \" + \" adiós\") #también se pueden aplicar a strings "
      ],
      "metadata": {
        "id": "NfTfWXRCQGrq",
        "colab": {
          "base_uri": "https://localhost:8080/"
        },
        "outputId": "97335850-d506-4e3b-9385-1b088247c989"
      },
      "execution_count": null,
      "outputs": [
        {
          "output_type": "stream",
          "name": "stdout",
          "text": [
            "hola  adiós\n"
          ]
        }
      ]
    },
    {
      "cell_type": "code",
      "source": [
        "print(\"hola \" + \" adiós\" *3) #también se pueden aplicar a strings "
      ],
      "metadata": {
        "id": "8Clv0DoX2FTL",
        "colab": {
          "base_uri": "https://localhost:8080/"
        },
        "outputId": "99e5005e-4050-4a26-e859-a3bea5654917"
      },
      "execution_count": null,
      "outputs": [
        {
          "output_type": "stream",
          "name": "stdout",
          "text": [
            "hola  adiós adiós adiós\n"
          ]
        }
      ]
    },
    {
      "cell_type": "markdown",
      "source": [
        "## Booleanos"
      ],
      "metadata": {
        "id": "DJCciZBl2WqD"
      }
    },
    {
      "cell_type": "markdown",
      "source": [
        "Antes de entrar a condicionales , debemos entender bien las variables boolean <br>\n",
        "Las variables **booleanos** sirven para verificar el estado de algo (verdadero/falso, encendido/apagado, 1/0),<br> usan las palabras reservadas **True, False**"
      ],
      "metadata": {
        "id": "JtjVWYkwQTQe"
      }
    },
    {
      "cell_type": "code",
      "source": [
        "#comparemos la veracidad de dos sentencias\n",
        "\n",
        "a=10\n",
        "b=3\n",
        "\n",
        "print(a<b)\n",
        "print(a>b)"
      ],
      "metadata": {
        "id": "nmn_b1zb0JUI",
        "colab": {
          "base_uri": "https://localhost:8080/"
        },
        "outputId": "13ecd4ca-c8de-4ebc-9cb3-c9d0314b724d"
      },
      "execution_count": null,
      "outputs": [
        {
          "output_type": "stream",
          "name": "stdout",
          "text": [
            "False\n",
            "True\n"
          ]
        }
      ]
    },
    {
      "cell_type": "markdown",
      "source": [
        "## Operadores relacionales"
      ],
      "metadata": {
        "id": "t_6e_dsQUvr3"
      }
    },
    {
      "cell_type": "markdown",
      "source": [
        "En la última expresión, los símbolos \"<\" y \">\" fungieron como **operadores de comparación o relacionales**, <br> es decir comparan dos expresiones y devuelve un valor booleano que representa la relación de sus valores\n"
      ],
      "metadata": {
        "id": "U_BHDL4_RMUu"
      }
    },
    {
      "cell_type": "code",
      "source": [
        "#ejemplo de uso de operadores de comparación\n",
        "print(a==b) #igual a\n",
        "print(a!=b) #diferente de\n",
        "print(a<b) #menor que\n",
        "print(a>b) #mayor que\n",
        "print(a>=b) #menor o igual que\n",
        "print(a<=b) #mayor o igual que\n"
      ],
      "metadata": {
        "id": "IhRHyjqd0ZIP",
        "colab": {
          "base_uri": "https://localhost:8080/"
        },
        "outputId": "0364af55-be83-4e21-be16-a260e3d5b332"
      },
      "execution_count": null,
      "outputs": [
        {
          "output_type": "stream",
          "name": "stdout",
          "text": [
            "False\n",
            "True\n",
            "False\n",
            "True\n",
            "True\n",
            "False\n"
          ]
        }
      ]
    },
    {
      "cell_type": "code",
      "source": [
        "'''\n",
        "operadores de identidad\n",
        "Los operadores de identidad indican si es estrictamente igual , es decir , del mismo valor y del mismo tipo, en otros lenguajes se utiliza el “triple igual”\n",
        "is\n",
        "is not\n",
        "'''\n",
        "\n",
        "#declaramos dos variables\n",
        "c=3\n",
        "d=3.0\n",
        "\n",
        "print(c==d) #hacemos la comparación con el operador de comparación\n",
        "print(c is d) #hacemos la comparación con el operador de identidad, el resultado es diferente porque uno es de tipo flotante y otro es de tipo entero\n",
        "\n"
      ],
      "metadata": {
        "id": "gEVh8E-y1Bb6",
        "colab": {
          "base_uri": "https://localhost:8080/"
        },
        "outputId": "872030fe-3256-42ba-a510-2102ba8f2dea"
      },
      "execution_count": null,
      "outputs": [
        {
          "output_type": "stream",
          "name": "stdout",
          "text": [
            "True\n",
            "False\n"
          ]
        }
      ]
    },
    {
      "cell_type": "code",
      "source": [
        "print(c is not d) #cambiamos la pregunta"
      ],
      "metadata": {
        "id": "BcYa2UGE1MgC",
        "colab": {
          "base_uri": "https://localhost:8080/"
        },
        "outputId": "e41ae184-57d9-42cf-93ce-6dc121fcb6e6"
      },
      "execution_count": null,
      "outputs": [
        {
          "output_type": "stream",
          "name": "stdout",
          "text": [
            "True\n"
          ]
        }
      ]
    },
    {
      "cell_type": "markdown",
      "source": [
        "## Operadores lógicos"
      ],
      "metadata": {
        "id": "61X8NMMBVffP"
      }
    },
    {
      "cell_type": "markdown",
      "source": [
        "<p>Los  operadores de lógicos  se usan para combinar dos valores booleanos y devolver un resultado,sirven como apoyo a las estructuras de control, permiten agrupar y combinar múltiples expresiones lógicas.<br>\n",
        "Aquí podemos encontrar a <strong>and, or y not</strong>\n",
        "</p>\n"
      ],
      "metadata": {
        "id": "4TCuvZOAVdR_"
      }
    },
    {
      "cell_type": "code",
      "source": [
        "a=100\n",
        "b=10\n",
        "c=300\n",
        "\n",
        "'''\n",
        "Usamos el operado lógico para determinar si la sentencia cumple com ambas condiciones,\n",
        "es decir que la variable a sea mayor que b Y que la variable a también sea mayor que c.\n",
        "Y como sólo una de estas expresiones se cumple el resultado es False\n",
        "'''\n",
        "print(a>b and a>c) #devuelve True , si ambos elementos son True\n",
        "\n",
        "'''\n",
        "Usamos el operado lógico para determinar si la sentencia cumple com una u otra condicion,\n",
        "es decir que la variable a sea mayor que b o que la variable a  sea mayor que c.\n",
        "Y como una de estas expresiones si cumple, el resultado es True\n",
        "'''\n",
        "print(a>b or a>c) #devuelve True, si al menos un elemento es True\n",
        "\n",
        "'''\n",
        "Estamos usando not para devolver lo contrario, la variable a es mayor que la variable b,\n",
        "por lo tanto el valor de la expresión es True, sin embargo le estamos solicitando devuelva lo \n",
        "opuesto y por lo tanto imprime False\n",
        "'''\n",
        "print(not a>b) #devuelve lo contrario\n"
      ],
      "metadata": {
        "id": "9abyKutRWS3H",
        "colab": {
          "base_uri": "https://localhost:8080/"
        },
        "outputId": "0afbc505-c57f-49b2-cb06-205394742c03"
      },
      "execution_count": null,
      "outputs": [
        {
          "output_type": "stream",
          "name": "stdout",
          "text": [
            "False\n",
            "True\n",
            "False\n"
          ]
        }
      ]
    },
    {
      "cell_type": "markdown",
      "source": [
        "## Programación estructurada (Condicionales)"
      ],
      "metadata": {
        "id": "5bSNSRVdZ8EN"
      }
    },
    {
      "cell_type": "markdown",
      "source": [
        "<p style=\"text-align: justify;\">\n",
        "\n",
        "La **Programación Estructurada** es en la que podemos definir la estructura en la que los bloques de código se van a ejecutar (escribir adecuadamente el flujo de la máquina)<br>\n",
        "\n",
        "Tienes que tener muy presente que instrucciones estás escribiendo y el orden en que la estas escribiendo, así como también saber decidir cuando se va a ejecutar cada una.<br>\n",
        "\n",
        "Un elemento importante en la programación estructurada son las condiciones es decir, circunstancias que se pueden producir que dependen de los datos y de sus valores que obligan a que el programa vaya en una dirección o en otra.<br>\n",
        "\n",
        "Pues para eso están **if, else, elif** que son los condicionales en los que tú puedes preguntar qué situación<br>\n",
        "</p>"
      ],
      "metadata": {
        "id": "Pu3v4SNJaEn0"
      }
    },
    {
      "cell_type": "markdown",
      "source": [
        "<img src=\"https://drive.google.com/uc?export=download&id=1MN1Sp_XFm6nTkWCBrTW1TdmsDqWVNGc-\" width=\"700\">"
      ],
      "metadata": {
        "id": "vO8R0s-zrLky"
      }
    },
    {
      "cell_type": "markdown",
      "source": [
        "### Ejercicio: Cadenero de antro (virtual)\n",
        "\n",
        "\n",
        "\n",
        "\n"
      ],
      "metadata": {
        "id": "vNgH8O-I1xgZ"
      }
    },
    {
      "cell_type": "markdown",
      "source": [
        "<img src=\"https://drive.google.com/uc?export=download&id=1X-Rbm03z4ZJwleDYNoew8VUurS4na-i0\" width=\"800\">"
      ],
      "metadata": {
        "id": "dDbu9552sn4b"
      }
    },
    {
      "cell_type": "code",
      "source": [
        "'''\n",
        "Primera condición es verificar la edad, si cumple con esta condicion le decimos\n",
        "que puede pasar\n",
        "'''\n",
        "edad=19 \n",
        "\n",
        "if edad>=18:\n",
        "  print(\"Pásale a la fiesta\")"
      ],
      "metadata": {
        "id": "nTLoPumGH5eB",
        "colab": {
          "base_uri": "https://localhost:8080/"
        },
        "outputId": "82ab35a0-8844-4465-a7c9-c2226f558655"
      },
      "execution_count": null,
      "outputs": [
        {
          "output_type": "stream",
          "name": "stdout",
          "text": [
            "Pásale a la fiesta\n"
          ]
        }
      ]
    },
    {
      "cell_type": "code",
      "source": [
        "edad=12\n",
        "\n",
        "if edad>=18:\n",
        "  print(\"Pásale a la fiesta\")\n",
        "else:\n",
        "  print(\"No pasas, lo siento\") #en caso de que no cumpla la condición le indicamos que imprima un mensaje"
      ],
      "metadata": {
        "id": "Ly9GY4L02yj6",
        "colab": {
          "base_uri": "https://localhost:8080/"
        },
        "outputId": "281f7ef6-a475-42b0-b961-ebc238af5aa3"
      },
      "execution_count": null,
      "outputs": [
        {
          "output_type": "stream",
          "name": "stdout",
          "text": [
            "No pasas, lo siento\n"
          ]
        }
      ]
    },
    {
      "cell_type": "code",
      "source": [
        "'''\n",
        "Segunda condición es verificar que la persona pueda cubrir el costo del boleto,\n",
        "declaramos la variable \"money\" la cual debe ser mayor a 100.\n",
        "Para esto usamos un operador tipo lógio \"and\"\n",
        "'''\n",
        "\n",
        "edad=28\n",
        "money=50\n",
        "\n",
        "if edad>=18 and money>=100:\n",
        "  print(\"pasa\")\n",
        "else:\n",
        "  print(\"no pasas bro\")"
      ],
      "metadata": {
        "id": "qOUwkNlS24Js",
        "colab": {
          "base_uri": "https://localhost:8080/"
        },
        "outputId": "4f172c66-7f9e-4704-e455-054e1fbdafa6"
      },
      "execution_count": null,
      "outputs": [
        {
          "output_type": "stream",
          "name": "stdout",
          "text": [
            "no pasas bro\n"
          ]
        }
      ]
    },
    {
      "cell_type": "code",
      "source": [
        "'''\n",
        "Tercera condición es que las mujeres pueden entrar gratis, siempre y cuando sean mayores de edad,\n",
        "esta condición la podemos declarar como un string o un booleano.\n",
        "Hacemos uso de un operador lógico \"or\", note también la agregación de paréntesis\n",
        "¿Qué sucedería si quitamos los paréntesis?\n",
        "'''\n",
        "edad=78\n",
        "money=50\n",
        "mujer=True\n",
        "\n",
        "if edad>=18 and (money>=100 or mujer==True):\n",
        "  print(\"pasa\")\n",
        "else:\n",
        "  print(\"no pasas bro\")"
      ],
      "metadata": {
        "id": "EjzpktVc27ry",
        "colab": {
          "base_uri": "https://localhost:8080/"
        },
        "outputId": "f2b3ce1a-5a15-4da4-be73-5fdacd9b8790"
      },
      "execution_count": null,
      "outputs": [
        {
          "output_type": "stream",
          "name": "stdout",
          "text": [
            "pasa\n"
          ]
        }
      ]
    },
    {
      "cell_type": "code",
      "source": [
        "'''\n",
        "Cuarta condición es que las personas que no cumplan las primeras tres condiciones \n",
        "pero conocen al encargado pueden hablar con él y acceder, pero sólo accederan cuando el encargado llegue.\n",
        "Aquí hacemos uso de elif para indicar otra ruta a nuestro flujo\n",
        "'''\n",
        "edad=12\n",
        "money=10\n",
        "genero=\"hombre\"\n",
        "conoce=\"si\"\n",
        "\n",
        "if edad>=18 and (money>=100 or genero==\"mujer\"):\n",
        "  print(\"pasa\")\n",
        "elif conoce==\"si\":\n",
        "  print(\"pasa cuando llegue charlye\")\n",
        "else:\n",
        "  print(\"no pasas bro\")"
      ],
      "metadata": {
        "id": "Th6e83Ly3AVi",
        "colab": {
          "base_uri": "https://localhost:8080/"
        },
        "outputId": "a21cf1a4-4427-4cd1-95fe-4e9289cfd4a3"
      },
      "execution_count": null,
      "outputs": [
        {
          "output_type": "stream",
          "name": "stdout",
          "text": [
            "pasa cuando llegue charlye\n"
          ]
        }
      ]
    },
    {
      "cell_type": "code",
      "source": [
        "'''\n",
        "Última condición es que la persona cuente con una tarjeta de socio, en cuyo caso\n",
        "pasa directamente a la zona VIP sin ninguna restricción\n",
        "Note aquí el uso de los llamados if anidados, en donde hay un if dentro de otro\n",
        "'''\n",
        "edad=22\n",
        "money=50\n",
        "genero=\"mujer\" \n",
        "conoce=\"si\"\n",
        "card=\"no\"\n",
        "\n",
        "if card==\"no\": #inicio del primer if\n",
        "\n",
        "  if edad>=18 and (money>=100 or genero==\"mujer\"): #inicio del if anidado\n",
        "    print(\"pasa\")\n",
        "  elif conoce==\"si\":\n",
        "    print(\"pasa cuando llegue charlye\")\n",
        "  else:\n",
        "    print(\"no pasas bro\")\n",
        "\n",
        "else:\n",
        "  print(\"pasa a la zona VIP\")\n"
      ],
      "metadata": {
        "id": "ZGq9dkIP3EjU",
        "colab": {
          "base_uri": "https://localhost:8080/"
        },
        "outputId": "74365a34-3997-4985-94f0-c244fe6b8090"
      },
      "execution_count": null,
      "outputs": [
        {
          "output_type": "stream",
          "name": "stdout",
          "text": [
            "pasa\n"
          ]
        }
      ]
    },
    {
      "cell_type": "markdown",
      "source": [
        "### Ejercicio: Cadenero de antro con sentencia input()\n"
      ],
      "metadata": {
        "id": "wdWbdAGP4Gsz"
      }
    },
    {
      "cell_type": "markdown",
      "source": [
        "Podemos solicitar que el usuario alimente los datos con la sentencia iput()"
      ],
      "metadata": {
        "id": "mB6JCsWi4UIF"
      }
    },
    {
      "cell_type": "code",
      "source": [
        "edad=input() #input sencillo"
      ],
      "metadata": {
        "id": "iHW5gVen4NjI",
        "colab": {
          "base_uri": "https://localhost:8080/"
        },
        "outputId": "c6a9373b-7edf-4c58-905c-8b8c544c0cc0"
      },
      "execution_count": null,
      "outputs": [
        {
          "name": "stdout",
          "output_type": "stream",
          "text": [
            "5\n"
          ]
        }
      ]
    },
    {
      "cell_type": "code",
      "source": [
        "edad=input(\"mensaje\") #input con mensaje"
      ],
      "metadata": {
        "id": "6Wvfcd424pJA",
        "colab": {
          "base_uri": "https://localhost:8080/"
        },
        "outputId": "68ecfbb1-6bc0-41ac-f467-51b735b6292b"
      },
      "execution_count": null,
      "outputs": [
        {
          "name": "stdout",
          "output_type": "stream",
          "text": [
            "mensaje5555\n"
          ]
        }
      ]
    },
    {
      "cell_type": "code",
      "source": [
        "edad=int(input(\"escribe tu edad\")) #indicamos que el valor de salida sea de tipo entero"
      ],
      "metadata": {
        "id": "5hVvRk0L45nA",
        "colab": {
          "base_uri": "https://localhost:8080/"
        },
        "outputId": "3f469a20-686e-49a4-ab58-e1b9a248d4f7"
      },
      "execution_count": null,
      "outputs": [
        {
          "name": "stdout",
          "output_type": "stream",
          "text": [
            "escribe tu edad34\n"
          ]
        }
      ]
    },
    {
      "cell_type": "code",
      "source": [
        "# Solicitamos que el usuario alimente las variables mediante input()\n",
        "card=str(input(\"¿Eres socio?\"))\n",
        "edad=int(input(\"¿Cuál es tu edad?\"))\n",
        "genero=str(input(\"Escribe género mujer/hombre\"))\n",
        "money=int(input(\"¿Cuanto tienes para el cover?\"))\n",
        "conoce=str(input(\"¿Conoces a charlye? si/no\"))\n",
        "\n",
        "\n",
        "if card==\"no\": \n",
        "\n",
        "  if edad>=18 and (money>=100 or genero==\"mujer\"): \n",
        "    print(\"pasa\")\n",
        "  elif conoce==\"si\":\n",
        "    print(\"pasa cuando llegue charlye\")\n",
        "  else:\n",
        "    print(\"no pasas bro\")\n",
        "\n",
        "else:\n",
        "  print(\"pasa a la zona VIP\")"
      ],
      "metadata": {
        "id": "murJwlQF6Nvb",
        "colab": {
          "base_uri": "https://localhost:8080/"
        },
        "outputId": "89399e16-5ac5-4297-9324-472d203ed523"
      },
      "execution_count": null,
      "outputs": [
        {
          "output_type": "stream",
          "name": "stdout",
          "text": [
            "¿Eres socio?si\n",
            "¿Cuál es tu edad?55\n",
            "Escribe género mujer/hombre\"hombre\"\n",
            "¿Cuanto tienes para el cover?1000\n",
            "¿Conoces a charlye? si/nono\n",
            "pasa a la zona VIP\n"
          ]
        }
      ]
    },
    {
      "cell_type": "code",
      "source": [
        "'''\n",
        "Proponemos una forma de ir escalonando cada una de las preguntas en función de si\n",
        "cumplen o no cumplen  la condición. Lo proponemos anidando if.\n",
        "¿De que manera lo harías tú?\n",
        "'''\n",
        "\n",
        "card=str(input(\"¿Eres socio?\"))\n",
        "if card==\"si\":\n",
        "  print(\"directamente a la zona VIP\")\n",
        "else:\n",
        "  edad=int(input(\"¿Cuál es tu edad?\"))\n",
        "  if edad<18:\n",
        "    print(\"lo siento eres muy chico\")\n",
        "  else:\n",
        "    genero=str(input(\"Escribe género mujer/hombre\"))\n",
        "    if genero==\"mujer\":\n",
        "      print(\"pasa sin problema\")\n",
        "    else:\n",
        "      money=int(input(\"¿Cuanto tienes para el cover?\"))\n",
        "      if money > 100:\n",
        "        print(\"pasa sin problema\")\n",
        "      else:\n",
        "        conoce=str(input(\"¿Conoces a charlye? si/no\"))\n",
        "        if conoce==\"si\":\n",
        "          print(\"espera a que llegue el encargado\")\n",
        "        else:\n",
        "          print(\"no puedes pasar de ninguna manera\")"
      ],
      "metadata": {
        "id": "NuFststo7UcM",
        "colab": {
          "base_uri": "https://localhost:8080/"
        },
        "outputId": "8a1c68eb-942d-4220-ce42-54dc05c26424"
      },
      "execution_count": null,
      "outputs": [
        {
          "output_type": "stream",
          "name": "stdout",
          "text": [
            "¿Eres socio?si\n",
            "directamente a la zona VIP\n"
          ]
        }
      ]
    },
    {
      "cell_type": "markdown",
      "source": [
        "###Ejercicio Venta de camisetas"
      ],
      "metadata": {
        "id": "_dtBYs4g3Lvk"
      }
    },
    {
      "cell_type": "markdown",
      "source": [
        "Te proponemos pongas en práctica lo que hemos visto hasta el momento para resolver el siguiente ejercicio. \n",
        "Al final te dejamos la liga para que nos puedas compartir cómo fue que lo abordaste (no importa si no lo terminaste del todo), una vez enviado , te compartiremos una propuesta de cómo resolverlo"
      ],
      "metadata": {
        "id": "Lk-Pxf7FCzAr"
      }
    },
    {
      "cell_type": "markdown",
      "source": [
        "<img src=\"https://drive.google.com/uc?export=download&id=1F9w3pbN2diDMsMWUVKKWDQP8Nefx6JGA\" width=\"800\">"
      ],
      "metadata": {
        "id": "Sby5DgulCQy8"
      }
    },
    {
      "cell_type": "markdown",
      "source": [
        "## Programación estructurada (Ciclos)"
      ],
      "metadata": {
        "id": "gCPc3Aff7ORh"
      }
    },
    {
      "cell_type": "markdown",
      "source": [
        "#### Ciclo for y while"
      ],
      "metadata": {
        "id": "95xRtMpBnSWd"
      }
    },
    {
      "cell_type": "markdown",
      "source": [
        "<p>\n",
        "Un bucle o ciclo, en programación, es una secuencia de instrucciones de código que se ejecuta repetidas veces, hasta que la condición asignada a dicho bucle deja de cumplirse. <br>\n",
        "\n",
        "Los tres bucles más utilizados en programación son el bucle <strong>for, el bucle while y el bucle  ̶d̶o̶-̶w̶h̶i̶l̶e̶. </strong> <br>\n",
        "\n",
        "Con for, las instrucciones se repiten el número de veces que le decimos, normalmente le ponemos un número, rango, o que itere una variable manejada en conjunto (lista) <br>\n",
        "\n",
        "Con while se va repitiendo el código en base a una condición, es decir, mientras esa condición sea verdadera. <br>\n",
        "</p>\n"
      ],
      "metadata": {
        "id": "UtyC7lnLVnux"
      }
    },
    {
      "cell_type": "code",
      "source": [
        "'''\n",
        "itera la variable i en un rago de 0 a 9\n",
        "e imprime el valor que vaya adquiriendo i en cada vuelta\n",
        "'''\n",
        "\n",
        "for i in range(10):\n",
        "  print(i)"
      ],
      "metadata": {
        "id": "O-EqPTXJ8ljm",
        "colab": {
          "base_uri": "https://localhost:8080/"
        },
        "outputId": "1c7f4868-d35d-4970-f934-2fb46fc7f6f4"
      },
      "execution_count": null,
      "outputs": [
        {
          "output_type": "stream",
          "name": "stdout",
          "text": [
            "0\n",
            "1\n",
            "2\n",
            "3\n",
            "4\n",
            "5\n",
            "6\n",
            "7\n",
            "8\n",
            "9\n"
          ]
        }
      ]
    },
    {
      "cell_type": "code",
      "source": [
        "'''\n",
        "itera la variable i en un rago de 2 a 9\n",
        "e imprime el valor que vaya adquiriendo i en cada vuelta\n",
        "'''\n",
        "for i in range(2,10):\n",
        "  print(i)"
      ],
      "metadata": {
        "id": "auyaf81I8yfi",
        "colab": {
          "base_uri": "https://localhost:8080/"
        },
        "outputId": "e5c5336c-98e6-4078-d1e0-cb7c3b4bc9b3"
      },
      "execution_count": null,
      "outputs": [
        {
          "output_type": "stream",
          "name": "stdout",
          "text": [
            "2\n",
            "3\n",
            "4\n",
            "5\n",
            "6\n",
            "7\n",
            "8\n",
            "9\n"
          ]
        }
      ]
    },
    {
      "cell_type": "code",
      "source": [
        "'''\n",
        "itera la variable i en un rago de 2 a 9, \n",
        "y que vaya escalando de 2 en 2 en cada vuelta\n",
        "e imprime el valor que vaya adquiriendo i en cada vuelta\n",
        "'''\n",
        "\n",
        "for i in range(2,10,2):\n",
        "  print(i)"
      ],
      "metadata": {
        "id": "j5tnffDl83hT",
        "colab": {
          "base_uri": "https://localhost:8080/"
        },
        "outputId": "e867bfd4-6b91-40e5-d2dd-a283a53539e6"
      },
      "execution_count": null,
      "outputs": [
        {
          "output_type": "stream",
          "name": "stdout",
          "text": [
            "2\n",
            "4\n",
            "6\n",
            "8\n"
          ]
        }
      ]
    },
    {
      "cell_type": "code",
      "source": [
        "'''\n",
        "Podemos iterar dentro de una lista, \n",
        "recorriendo cada uno de los elementos que la conforman\n",
        "'''\n",
        "lista= [\"valor_1\",\"valor_2\",\"valor_3\",\"valor_4\"]\n",
        "\n",
        "for j in lista:\n",
        "\tprint(j)\n",
        "\n",
        "\n"
      ],
      "metadata": {
        "id": "AFpcn2Is9Cuy",
        "colab": {
          "base_uri": "https://localhost:8080/"
        },
        "outputId": "fac6fbbd-fbae-41bc-9c7f-6cae7a72c669"
      },
      "execution_count": null,
      "outputs": [
        {
          "output_type": "stream",
          "name": "stdout",
          "text": [
            "valor_1\n",
            "valor_2\n",
            "valor_3\n",
            "valor_4\n"
          ]
        }
      ]
    },
    {
      "cell_type": "markdown",
      "source": [
        "Existe otro tipo de ciclo, el <strong>ciclo while</strong>. A diferencia de los for, se repiten tantas veces como se cumpla una condición booleana (operador lógico). Por ejemplo:\n"
      ],
      "metadata": {
        "id": "vsWY4UHMYzun"
      }
    },
    {
      "cell_type": "code",
      "source": [
        "\n",
        "contador = 0 #declaramos la variable contador\n",
        "while contador < 5: #mientras contador sea menor a 5\n",
        "    print (contador) #imprime contador\n",
        "    contador += 1 # haz que contador aumente 1 en cada vuelta (Operador acumulativo)"
      ],
      "metadata": {
        "id": "VszufsKO9vV9",
        "colab": {
          "base_uri": "https://localhost:8080/"
        },
        "outputId": "b7dac334-fa84-4522-ef62-0a786f630148"
      },
      "execution_count": null,
      "outputs": [
        {
          "output_type": "stream",
          "name": "stdout",
          "text": [
            "0\n",
            "1\n",
            "2\n",
            "3\n",
            "4\n"
          ]
        }
      ]
    },
    {
      "cell_type": "markdown",
      "source": [
        "#### Operadores acumulativos"
      ],
      "metadata": {
        "id": "Xf2bOvD-eBy7"
      }
    },
    {
      "cell_type": "markdown",
      "source": [
        "\n",
        "En la última expresión hicimos uso de un operador acumulativo (incremento). <br>\n",
        "\n",
        "Los operadores acumulativos son aquellos que dan datos a las variables, permiten que un dato cambie con respecto a si mismo ,sin hacer otra reserva en la memoria (lo cual consumiría espacio en la memoria)"
      ],
      "metadata": {
        "id": "FgI2bvGFZlv-"
      }
    },
    {
      "cell_type": "code",
      "source": [
        "contador=contador+1 #incremento \n",
        "contador+=1 #incremento \n",
        "contador=contador-1 #decremento\n",
        "contador-=1 #decremento  \n",
        "contador+=3 #suma acumulativa  \n",
        "contador-=3 #resta acumulativa \n",
        "contador/=3 #división acumulativa \n",
        "contador//=3 #división sin decimales acumulativa \n",
        "contador*=3 #multiplicación acumulativa  \n",
        "contador**=3 #exponente acumulativo  "
      ],
      "metadata": {
        "id": "rOk884Pvcubh"
      },
      "execution_count": null,
      "outputs": []
    },
    {
      "cell_type": "code",
      "source": [
        "'''\n",
        "Ejemplo de una suma acumulativa\n",
        "'''\n",
        "contador = 0  #declaramos la variable contador\n",
        "while contador < 100: #mientras contador sea menor a 100\n",
        "    print (contador) #imprime el valor de contador\n",
        "    contador += 10 #haz que contador aumente 10 en cada vuelta"
      ],
      "metadata": {
        "id": "LEf4ZeyM-bB9",
        "colab": {
          "base_uri": "https://localhost:8080/"
        },
        "outputId": "82ea799c-d73a-4186-fb51-7c4ea19a2443"
      },
      "execution_count": null,
      "outputs": [
        {
          "output_type": "stream",
          "name": "stdout",
          "text": [
            "0\n",
            "10\n",
            "20\n",
            "30\n",
            "40\n",
            "50\n",
            "60\n",
            "70\n",
            "80\n",
            "90\n"
          ]
        }
      ]
    },
    {
      "cell_type": "code",
      "source": [
        "'''\n",
        "Ejemplo de una multiplicación acumulativa\n",
        "'''\n",
        "contador = 1 #empezamos en 1 para no crear un bucle infinito\n",
        "while contador < 100: #mientras contador sea menor a 100\n",
        "    print (contador) #imprime el valor de contador\n",
        "    contador *= 3 #haz que contador se multiplique por 3 en cada vuelta"
      ],
      "metadata": {
        "id": "-YxMTIbX-4xt",
        "colab": {
          "base_uri": "https://localhost:8080/"
        },
        "outputId": "b13cd55a-0065-48b4-95aa-5e48fbfa5750"
      },
      "execution_count": null,
      "outputs": [
        {
          "output_type": "stream",
          "name": "stdout",
          "text": [
            "1\n",
            "3\n",
            "9\n",
            "27\n",
            "81\n"
          ]
        }
      ]
    },
    {
      "cell_type": "code",
      "source": [
        "'''\n",
        "Ejemplo de una división acumulativa\n",
        "'''\n",
        "contador = 100 #empezamos en 100 \n",
        "while contador > 0: #mientras contador sea menor mayor a 0\n",
        "    print (contador) #imprime el valor de contador\n",
        "    contador //=3 #haz que contador se divida entre 3 en cada vuelta"
      ],
      "metadata": {
        "id": "ia8HhnF4bpLA",
        "colab": {
          "base_uri": "https://localhost:8080/"
        },
        "outputId": "60318acb-7ff5-4abd-a37d-06a903242952"
      },
      "execution_count": null,
      "outputs": [
        {
          "output_type": "stream",
          "name": "stdout",
          "text": [
            "100\n",
            "33\n",
            "11\n",
            "3\n",
            "1\n"
          ]
        }
      ]
    },
    {
      "cell_type": "markdown",
      "source": [
        "#### Sentencia break y continue"
      ],
      "metadata": {
        "id": "5MegzLaxmcmP"
      }
    },
    {
      "cell_type": "markdown",
      "source": [
        "Las sentencias <strong> break y continue </strong> permiten manipular el comportamiento normal de los bucles for para detener el bucle o para saltarse algunas repeticiones. Concretamente, la sentencia break permite terminar de forma abrupta un bucle y la sentencia continue permite saltarse algunas repeticiones del bucle."
      ],
      "metadata": {
        "id": "iBLH2NxObnO6"
      }
    },
    {
      "cell_type": "code",
      "source": [
        "'''\n",
        "Ejemplo en de break\n",
        "\n",
        "**while True:  siempre evalua la expresión como verdadera, \n",
        "mientras verdadero sea igual a verdadero entonces ejecuta la instrucción\n",
        "(sería un ciclo infinito si no aplicamos un break)\n",
        "'''\n",
        "count = 0 #declaramos la variable contador\n",
        "while True: #**\n",
        "    print (count) #imprime  el valor de contador\n",
        "    count += 1 #haz que contador incremente en 1 en cada vuelta\n",
        "    if count >= 5: #evalua si contador es mayor o igual a 5\n",
        "        break #entonces rompe el ciclo"
      ],
      "metadata": {
        "id": "uddc3iBQ-BPE",
        "colab": {
          "base_uri": "https://localhost:8080/"
        },
        "outputId": "6ca6c5ce-179e-45df-f714-cd4f5be21c29"
      },
      "execution_count": null,
      "outputs": [
        {
          "output_type": "stream",
          "name": "stdout",
          "text": [
            "0\n",
            "1\n",
            "2\n",
            "3\n",
            "4\n"
          ]
        }
      ]
    },
    {
      "cell_type": "code",
      "source": [
        "'''\n",
        "Ejemplo de continue\n",
        "Imprimir números Impares\n",
        "'''\n",
        "\n",
        "for x in range(20): #itera la variable x de 0 a 9 veces\n",
        "    if x % 2 == 0: #Si el residuo de la división de variable x entre 2 es 0\n",
        "        continue #puedes continuar imprimiendo\n",
        "    print (x)\n"
      ],
      "metadata": {
        "id": "iYT2kk2f-J38",
        "colab": {
          "base_uri": "https://localhost:8080/"
        },
        "outputId": "aeb1fc4a-863d-4c8f-c74b-58f8b0186c8d"
      },
      "execution_count": null,
      "outputs": [
        {
          "output_type": "stream",
          "name": "stdout",
          "text": [
            "1\n",
            "3\n",
            "5\n",
            "7\n",
            "9\n",
            "11\n",
            "13\n",
            "15\n",
            "17\n",
            "19\n"
          ]
        }
      ]
    },
    {
      "cell_type": "markdown",
      "source": [
        "#### Ejercicios con ciclos"
      ],
      "metadata": {
        "id": "FuBfo2YaAuB1"
      }
    },
    {
      "cell_type": "markdown",
      "source": [
        "A continuación te proponemos 8 ejercicios (te ayudaremos con los primeros dos) en donde puedas aplicar el conociento adquirido ,puedes usar cualquiera de los dos ciclos para abordar y proponer un método de solución, recuerda que la liga de envío la dejaremos al final del notebook , una vez enviado te haremos llegar la forma en la que nosotros abordamos los ejercicios, recuerda que existen varias formas de solucionar un problema"
      ],
      "metadata": {
        "id": "osnYsKmSnkyN"
      }
    },
    {
      "cell_type": "markdown",
      "source": [
        "1.-Imprimir la tabla 97 del 10 al 20\n"
      ],
      "metadata": {
        "id": "MDG1XjvTpvbr"
      }
    },
    {
      "cell_type": "code",
      "source": [
        "for k in range(10,21): #iteramos la variable k en un rango de 10 a 20\n",
        "  #pedimos que imprime una cadena de texto, el valor que va tomando k y la multiplicación por 97\n",
        "  print(\"97 X \",k,\" = \",k*97)  \n"
      ],
      "metadata": {
        "id": "CNjsjVUcE6q_",
        "colab": {
          "base_uri": "https://localhost:8080/"
        },
        "outputId": "a6518647-2026-4bd5-cdbf-db0b405c7234"
      },
      "execution_count": null,
      "outputs": [
        {
          "output_type": "stream",
          "name": "stdout",
          "text": [
            "97 X  10  =  970\n",
            "97 X  11  =  1067\n",
            "97 X  12  =  1164\n",
            "97 X  13  =  1261\n",
            "97 X  14  =  1358\n",
            "97 X  15  =  1455\n",
            "97 X  16  =  1552\n",
            "97 X  17  =  1649\n",
            "97 X  18  =  1746\n",
            "97 X  19  =  1843\n",
            "97 X  20  =  1940\n"
          ]
        }
      ]
    },
    {
      "cell_type": "markdown",
      "source": [
        "2.-Tienes un cachorro que nació en 2022, tomando en cuenta que un año humano es igual a 7 años perrunos, estructura un ciclo que vaya del 2022 al 2037 e imprima : tu edad, la edad que tendrá el cachorro y el año\n",
        "\n"
      ],
      "metadata": {
        "id": "1A2MsKwtr7iM"
      }
    },
    {
      "cell_type": "code",
      "source": [
        "edad=int(input(\"¿Cuál es tu edad?\")) #pedimos al usuario la edad\n",
        "edad_cachorro=0 #la edad del cachorro en el presente año 2022 es 0\n",
        "\n",
        "count = 2022 #empezamos el contador en el presente año 2022\n",
        "while count <= 2037: #nos indica que el rango de años es hasta 2037\n",
        "    print ('En el año ',count, \"tu edad es \", edad , \"la edad del perro es \" , edad_cachorro)\n",
        "    count += 1 #el contador ira año por año (incremento)\n",
        "    edad +=1 #tu edad irá en incremento año a año\n",
        "    edad_cachorro+=7 #tomando en cuenta que los años perrunos equivalen a 7, la edad del cahorro iterara en 7\n"
      ],
      "metadata": {
        "id": "iVENRFQCGXke",
        "colab": {
          "base_uri": "https://localhost:8080/"
        },
        "outputId": "59f7a014-3177-4911-f654-0b47f387ac4a"
      },
      "execution_count": null,
      "outputs": [
        {
          "output_type": "stream",
          "name": "stdout",
          "text": [
            "¿Cuál es tu edad?22\n",
            "En el año  2022 tu edad es  22 la edad del perro es  0\n",
            "En el año  2023 tu edad es  23 la edad del perro es  7\n",
            "En el año  2024 tu edad es  24 la edad del perro es  14\n",
            "En el año  2025 tu edad es  25 la edad del perro es  21\n",
            "En el año  2026 tu edad es  26 la edad del perro es  28\n",
            "En el año  2027 tu edad es  27 la edad del perro es  35\n",
            "En el año  2028 tu edad es  28 la edad del perro es  42\n",
            "En el año  2029 tu edad es  29 la edad del perro es  49\n",
            "En el año  2030 tu edad es  30 la edad del perro es  56\n",
            "En el año  2031 tu edad es  31 la edad del perro es  63\n",
            "En el año  2032 tu edad es  32 la edad del perro es  70\n",
            "En el año  2033 tu edad es  33 la edad del perro es  77\n",
            "En el año  2034 tu edad es  34 la edad del perro es  84\n",
            "En el año  2035 tu edad es  35 la edad del perro es  91\n",
            "En el año  2036 tu edad es  36 la edad del perro es  98\n",
            "En el año  2037 tu edad es  37 la edad del perro es  105\n"
          ]
        }
      ]
    },
    {
      "cell_type": "markdown",
      "source": [
        "3.-Pedir  al usuario un número “n” y  un nombre, e imprimir en pantalla\n",
        "n veces su nombre\n"
      ],
      "metadata": {
        "id": "ahtUP3Jdt-Pm"
      }
    },
    {
      "cell_type": "markdown",
      "source": [
        "4.-Imprimir años bisiestos que hay del 2022 al 2050  *tomando en cuenta que el 2024 es año bisiesto"
      ],
      "metadata": {
        "id": "ec4GUloyvV9m"
      }
    },
    {
      "cell_type": "markdown",
      "source": [
        "5.-Pide al usuario  un monto de deuda y cuánto es el pago mensual y que el programa imprima como se va reduciendo su deuda mensualmente hasta llegar a cero (quedar liquidada)\n"
      ],
      "metadata": {
        "id": "9H7Pd-Rfw0sP"
      }
    },
    {
      "cell_type": "markdown",
      "source": [
        "6.-Pide al usuario  una cantidad a invertir, una tasa de interés anual (ejemplo 0.15) y que vaya imprimiendo cómo cambia el capital de su dinero durante los próximos 10 años \n"
      ],
      "metadata": {
        "id": "gpog7cdQx1Bn"
      }
    },
    {
      "cell_type": "markdown",
      "source": [
        "7.-Un caracol está en la base de una pared que mide 10 metros de altura. El caracol tiene que llegar a lo alto de la pared y empieza a subir: cada día sube dos metros, pero por la noche se duerme, y resbala un metro. La pregunta es cuántos días tarda en llegar  a lo alto de la pared.\n",
        "<br><strong>\n",
        "Estructura un ciclo que indique e imprima cada día el avance del caracol hasta que llegue a lo alto de la pared\n",
        "</strong>"
      ],
      "metadata": {
        "id": "2haGuF2ky-LJ"
      }
    },
    {
      "cell_type": "markdown",
      "source": [
        "8.- Tenemos la contraseña \"devf16b\" , vamos a solicitar al usuario la contraseña mediante un bucle hasta que digite la contraseña correcta, le vamos a dar 5 oportunidades, en caso de digital la contraseña correcta le vamos a imprimir en pantalla, \"Bienvenido\""
      ],
      "metadata": {
        "id": "Qq9fea-V2G0r"
      }
    }
  ]
}