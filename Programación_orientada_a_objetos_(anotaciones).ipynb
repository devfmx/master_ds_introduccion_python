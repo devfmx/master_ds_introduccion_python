{
  "nbformat": 4,
  "nbformat_minor": 0,
  "metadata": {
    "colab": {
      "name": "Programación orientada a objetos (anotaciones)",
      "provenance": [],
      "collapsed_sections": [
        "ZUy6k_VPRK4m",
        "7nE38hurZieG",
        "Itc4SQFu5HKx",
        "UIYyMzBW-_9k",
        "8eu3UdPPLTk0",
        "uauuehYHVw-j",
        "vvXA_sGLJUm1",
        "7bCRZsrneZ27",
        "VYGmzc_6aZSU",
        "h08E0qtzKPiD",
        "_IBvv6BEKJ4E"
      ],
      "toc_visible": true,
      "include_colab_link": true
    },
    "kernelspec": {
      "name": "python3",
      "display_name": "Python 3"
    },
    "language_info": {
      "name": "python"
    }
  },
  "cells": [
    {
      "cell_type": "markdown",
      "metadata": {
        "id": "view-in-github",
        "colab_type": "text"
      },
      "source": [
        "<a href=\"https://colab.research.google.com/github/devfmx/master_ds_introduccion_python/blob/main/Programaci%C3%B3n_orientada_a_objetos_(anotaciones).ipynb\" target=\"_parent\"><img src=\"https://colab.research.google.com/assets/colab-badge.svg\" alt=\"Open In Colab\"/></a>"
      ]
    },
    {
      "cell_type": "markdown",
      "source": [
        "<img src=\"https://devf-website.s3.amazonaws.com/static/assets/img/logo-devf-negro.png\" width=\"150\"/> \n",
        "<h3> <strong>Master en Data Science/AI</strong> </h3>\n",
        "<h4> Introducción al lenguaje python </h4>\n",
        "<h5> Programación Orientada a Objetos </h5>\n",
        "<strong>\n",
        "Sensei: Zelzin Márquez <br>\n",
        "Sensei: Armando Valdés\n",
        "</strong>"
      ],
      "metadata": {
        "id": "kUaiFpx_NWm1"
      }
    },
    {
      "cell_type": "markdown",
      "source": [
        "<img src=\"https://drive.google.com/uc?export=download&id=1IRCFOEWbggTCHd5GBc1BFEqwrI5qroJE\" width=\"600\"/> "
      ],
      "metadata": {
        "id": "XAetsraINWSN"
      }
    },
    {
      "cell_type": "markdown",
      "source": [
        "## 1.-Teoría POO"
      ],
      "metadata": {
        "id": "ZUy6k_VPRK4m"
      }
    },
    {
      "cell_type": "markdown",
      "source": [
        "### 1.1 Definición"
      ],
      "metadata": {
        "id": "7nE38hurZieG"
      }
    },
    {
      "cell_type": "markdown",
      "source": [
        "La programación orientada a objetos, también llamada POO, se define como un <b>paradigma de programación</b>, con el cual podemos usar objetos para modelar cosas del mundo real que queremos representar en nuestros programas, y/o proveemos una simple manera para acceder a la funcionalidad que, de otra manera, sería difícil o imposible de usar. <br>\n"
      ],
      "metadata": {
        "id": "VSrofBnh98pF"
      }
    },
    {
      "cell_type": "markdown",
      "source": [
        "### 1.2 ¿Qué es un paradigma? <br>\n",
        "Normas que establecen límites o determinan cómo debe comportarse un elemento dentro de estos límites<br>\n",
        "\n",
        "Un paradigma en un estilo de desarrollo de programas, es decir una manera para resolver modelos computacionales"
      ],
      "metadata": {
        "id": "Itc4SQFu5HKx"
      }
    },
    {
      "cell_type": "markdown",
      "source": [
        "<img src=\"https://drive.google.com/uc?export=download&id=17gUoe57pJtrAJPw8qoaMmaX6lZ0Fmgv6\" width=\"200\"/>\n"
      ],
      "metadata": {
        "id": "l0iXP3YeSlwb"
      }
    },
    {
      "cell_type": "markdown",
      "source": [
        "### 1.3 Razones para usar POO <br>"
      ],
      "metadata": {
        "id": "UIYyMzBW-_9k"
      }
    },
    {
      "cell_type": "markdown",
      "source": [
        "Los datos de un Objeto (y frecuentemente, también las funciones) se pueden almacenar ordenadamente (la palabra oficial es encapsular). <br>\n",
        "\n",
        "1. Fomenta la reutilización y ampliación del código\n",
        "2. Permite crear sistemas más complejos\n",
        "3. Agiliza el desarrollo de software.\n",
        "4. La programación orientada a objetos disminuye los errores \n",
        "5. Es una manera especial de programar, que se acerca de alguna manera  cómo podemos expresar las cosas en la vida real\n",
        "\n",
        "Es un tema importante ya que todo en python es un objeto, la mayoría de bibliotecas en python trabajan con este tipo de elementos (NLTK, scikit-learn, Bert,Statistics), \n"
      ],
      "metadata": {
        "id": "fLKu5rfUMV48"
      }
    },
    {
      "cell_type": "markdown",
      "source": [
        "## 2.- ¿Qué es y cómo se construye un objeto?"
      ],
      "metadata": {
        "id": "8eu3UdPPLTk0"
      }
    },
    {
      "cell_type": "markdown",
      "source": [
        "Un objeto es una unidad dentro de un programa informático que tiene un estado, y un comportamiento. Es decir, tiene una serie de datos almacenados y tareas que realiza con esos datos en el tiempo de ejecución. <br>\n",
        "\n",
        "Los objetos tienen dos elementos, atributos y métodos:los atributos son las propiedades o características del objeto y los métodos se puden describir como las acciones o procedimientos que puede realizar"
      ],
      "metadata": {
        "id": "kq5rCgdB8eTL"
      }
    },
    {
      "cell_type": "markdown",
      "source": [
        "<img src=\"https://drive.google.com/uc?export=download&id=1b3IvHPAMs6izODL4YZEShCBhjoxIIxs0\" width=\"500\"/> "
      ],
      "metadata": {
        "id": "6NRHB0K3PFFk"
      }
    },
    {
      "cell_type": "markdown",
      "source": [
        "Los objetos se crean a partir de una plantilla llamada clase, cada objeto es una instancia de su clase a lo anterior se le conoce como instanciar un objeto"
      ],
      "metadata": {
        "id": "NIAJL6Nr8FX1"
      }
    },
    {
      "cell_type": "markdown",
      "source": [
        "<img src=\"https://drive.google.com/uc?export=download&id=1JcNs1bTWCjafSy1X3bv6RmScXgSlwBd-\" width=\"500\"/> "
      ],
      "metadata": {
        "id": "KZ2-v82XPX-t"
      }
    },
    {
      "cell_type": "markdown",
      "source": [
        "### 2.1 Ejercicio1 \"Mascotas\""
      ],
      "metadata": {
        "id": "uauuehYHVw-j"
      }
    },
    {
      "cell_type": "markdown",
      "source": [
        "¿Cómo podemos instanciar a las mascotas de los simpson?"
      ],
      "metadata": {
        "id": "RrciuZFwC5LB"
      }
    },
    {
      "cell_type": "markdown",
      "source": [
        "<img src=\"https://drive.google.com/uc?export=download&id=1-JCUv3lxVNdBldbAxqM-pzgvtLFpFsOg\" width=\"400\"/> "
      ],
      "metadata": {
        "id": "GCtO5H5KOu9b"
      }
    },
    {
      "cell_type": "code",
      "execution_count": null,
      "metadata": {
        "id": "kPStA3gvch_6"
      },
      "outputs": [],
      "source": [
        "'''\n",
        "Primero tenemos que crear los elementos \"Clase\"\n",
        "que nos van a servir como plantilla para crear (instanciar)\n",
        "nuestros objetos\n",
        "\n",
        "Se empieza con la palabra reservada \"class\" y posteriormente\n",
        "escribimos el nombre de la clase (por buena práctica se empieza con mayúscula),\n",
        "ponemos dos puntos al final y en el cuerpo empezamos a asignar algunos atributos\n",
        "'''\n",
        "class Perro: \n",
        "  clasificacion=\"mamifero\"\n",
        "  grupo=\"carnivoro\"\n",
        "  familia=\"caninos\"\n",
        "  garras_retractiles=False\n",
        "  edad=0\n",
        "  \n",
        "class Gato:\n",
        "  clasificacion=\"mamifero\"\n",
        "  grupo=\"carnivoro\"\n",
        "  familia=\"felinos\"\n",
        "  garras_retractiles=True\n",
        "  edad=0"
      ]
    },
    {
      "cell_type": "code",
      "source": [
        "'''\n",
        "Para crear el objeto , escribimos su nombre y lo igualamos a \n",
        "una clase , a esto se le conoce como instanciar el objeto \n",
        "'''\n",
        "huesos=Perro() #instanciar la clase para crear un objeto\n",
        "bola_nieve=Gato() #instanciar la clase para crear un objeto\n",
        "procer=Perro() #instanciar la clase para crear un objeto"
      ],
      "metadata": {
        "id": "VMRqBwRGE2QD"
      },
      "execution_count": null,
      "outputs": []
    },
    {
      "cell_type": "code",
      "source": [
        "'''\n",
        "Vamos a empezar a trabajar con los objetos creados\n",
        "'''\n",
        "#acceder al atributo del objeto\n",
        "huesos.grupo"
      ],
      "metadata": {
        "colab": {
          "base_uri": "https://localhost:8080/",
          "height": 35
        },
        "id": "Ud0GdnXxFjU2",
        "outputId": "ff6b618d-f2dd-4efa-da8e-87c1c2656107"
      },
      "execution_count": null,
      "outputs": [
        {
          "output_type": "execute_result",
          "data": {
            "text/plain": [
              "'carnivoro'"
            ],
            "application/vnd.google.colaboratory.intrinsic+json": {
              "type": "string"
            }
          },
          "metadata": {},
          "execution_count": 3
        }
      ]
    },
    {
      "cell_type": "code",
      "source": [
        "#acceder al atributo del objeto\n",
        "getattr(procer,\"familia\") "
      ],
      "metadata": {
        "colab": {
          "base_uri": "https://localhost:8080/",
          "height": 35
        },
        "id": "feuNtoidF6NO",
        "outputId": "51f584a1-12b5-4f3a-f18e-e32eb528f6ec"
      },
      "execution_count": null,
      "outputs": [
        {
          "output_type": "execute_result",
          "data": {
            "text/plain": [
              "'caninos'"
            ],
            "application/vnd.google.colaboratory.intrinsic+json": {
              "type": "string"
            }
          },
          "metadata": {},
          "execution_count": 4
        }
      ]
    },
    {
      "cell_type": "code",
      "source": [
        "#cambiar el atributo del objeto\n",
        "huesos.edad=3\n",
        "huesos.edad"
      ],
      "metadata": {
        "colab": {
          "base_uri": "https://localhost:8080/"
        },
        "id": "ZeNwqu27GOfB",
        "outputId": "b20745dd-2f4f-430a-f1f2-400dfadf3614"
      },
      "execution_count": null,
      "outputs": [
        {
          "output_type": "execute_result",
          "data": {
            "text/plain": [
              "3"
            ]
          },
          "metadata": {},
          "execution_count": 5
        }
      ]
    },
    {
      "cell_type": "code",
      "source": [
        "#cambiar el atributo del objeto\n",
        "setattr(bola_nieve,\"edad\",1)\n",
        "bola_nieve.edad"
      ],
      "metadata": {
        "colab": {
          "base_uri": "https://localhost:8080/"
        },
        "id": "SWVj6Y9xGrXQ",
        "outputId": "be652e55-f3bb-44df-b49c-e0e66e417654"
      },
      "execution_count": null,
      "outputs": [
        {
          "output_type": "execute_result",
          "data": {
            "text/plain": [
              "1"
            ]
          },
          "metadata": {},
          "execution_count": 6
        }
      ]
    },
    {
      "cell_type": "code",
      "source": [
        "#Verificar si cuenta con un atributo\n",
        "hasattr(procer,\"raza\")"
      ],
      "metadata": {
        "colab": {
          "base_uri": "https://localhost:8080/"
        },
        "id": "U5Bwl-FdHHUj",
        "outputId": "66cdfb81-55d6-47c5-fd84-b0aba767069c"
      },
      "execution_count": null,
      "outputs": [
        {
          "output_type": "execute_result",
          "data": {
            "text/plain": [
              "False"
            ]
          },
          "metadata": {},
          "execution_count": 7
        }
      ]
    },
    {
      "cell_type": "code",
      "source": [
        "#Agregar atributo\n",
        "procer.raza=\"Collie\""
      ],
      "metadata": {
        "id": "djk1XWVKHd-c"
      },
      "execution_count": null,
      "outputs": []
    },
    {
      "cell_type": "code",
      "source": [
        "#eliminar atributo\n",
        "delattr(Perro,\"garras_retractiles\") #eliminar atributo"
      ],
      "metadata": {
        "id": "slBfxYcQIJbb"
      },
      "execution_count": null,
      "outputs": []
    },
    {
      "cell_type": "code",
      "source": [
        "huesos.garras_retractiles #ya no aparece el atributo eliminado"
      ],
      "metadata": {
        "id": "aq9N2WbvImL8"
      },
      "execution_count": null,
      "outputs": []
    },
    {
      "cell_type": "markdown",
      "source": [
        "## 3.- Constructor"
      ],
      "metadata": {
        "id": "vvXA_sGLJUm1"
      }
    },
    {
      "cell_type": "markdown",
      "source": [
        "<p>\n",
        "Un constructor es una subrutina cuya misión es inicializar un objeto de una clase. En el constructor se asignan los valores iniciales del nuevo objeto. <br>\n",
        "\n",
        "El famoso método constructor __init__ sirve para inicializar valores de ciertas variables, es decir que de este modo, siempre tendrás una serie de valores asignados por defecto al instanciar un objeto. <br>\n",
        "\n",
        "Al crear una instancia de una clase, necesitamos diferenciar o especificar los atributos de la instancia de los argumentos y otras variables. Y ahí es donde necesitamos la palabra clave <b>self</b> para especificar que estamos pasando el valor a los atributos de la instancia y no a la variable o argumento local con el mismo nombre.\n",
        "</p>"
      ],
      "metadata": {
        "id": "wNArvc1GVpmF"
      }
    },
    {
      "cell_type": "code",
      "source": [
        "'''\n",
        "Como ejemplo vamos a usar el constructor para instanciar un objeto\n",
        "de tipo persona\n",
        "\n",
        "el parámetro self sirve para hacer una referencia recurrente a la instancia de la clase\n",
        "self nos va a servir para acceder a las variables que hay dentro de la clase\n",
        "'''\n",
        "class Persona:\n",
        "  def __init__(self, nombre, apellido, edad):\n",
        "    self.nombre=nombre\n",
        "    self.apellido=apellido\n",
        "    self.edad=int(edad)\n",
        "  \n",
        "  def saludar(self):\n",
        "    print(\"hola, soy\",self.nombre,self.apellido)"
      ],
      "metadata": {
        "id": "OEvGcEwXMf7A"
      },
      "execution_count": null,
      "outputs": []
    },
    {
      "cell_type": "code",
      "source": [
        "tania=Persona(\"Tania\",\"Perez\",\"25\") #instanciar un objeto"
      ],
      "metadata": {
        "id": "e2cRifUmNDbv"
      },
      "execution_count": null,
      "outputs": []
    },
    {
      "cell_type": "code",
      "source": [
        "tania.edad #podemos trabajar con sus atributos"
      ],
      "metadata": {
        "colab": {
          "base_uri": "https://localhost:8080/"
        },
        "id": "j7vUw40aNFAf",
        "outputId": "71e435d8-cbcd-4b33-d7cb-bf6f3d157162"
      },
      "execution_count": null,
      "outputs": [
        {
          "output_type": "execute_result",
          "data": {
            "text/plain": [
              "25"
            ]
          },
          "metadata": {},
          "execution_count": 19
        }
      ]
    },
    {
      "cell_type": "code",
      "source": [
        "tania.saludar() #también podemos ejecutar sus métodos"
      ],
      "metadata": {
        "colab": {
          "base_uri": "https://localhost:8080/"
        },
        "id": "pF5yIADGNIqA",
        "outputId": "608e7f79-7861-4226-f8ee-e47bc29a18ea"
      },
      "execution_count": null,
      "outputs": [
        {
          "output_type": "stream",
          "name": "stdout",
          "text": [
            "hola, soy Tania Perez\n"
          ]
        }
      ]
    },
    {
      "cell_type": "markdown",
      "source": [
        "### 3.1 Ejercicio 2 \"Gladiadores\""
      ],
      "metadata": {
        "id": "nVB6Gb2KNtAV"
      }
    },
    {
      "cell_type": "markdown",
      "source": [
        "Tenemos una serie de perfiles de gladiadores mexicanos. El ejercicio consiste en crear un objeto para cada uno mediante un constructor, los atributos de los objetos serán; nombre, alias, estilo y un atributo booleano que indica si son o no son enmascarados, por otra parte los métodos que podrán ejecutar nuestros objetos serán: presentarse, atacar, ganar y perder."
      ],
      "metadata": {
        "id": "xoCZ4c3ujjGU"
      }
    },
    {
      "cell_type": "markdown",
      "source": [
        "<img src=\"https://drive.google.com/uc?export=download&id=1r9BNpgQwqyyrF6XpPWsyQARKppCTnpf4\" width=\"1000\"/> "
      ],
      "metadata": {
        "id": "FPm_inlrOCZs"
      }
    },
    {
      "cell_type": "code",
      "source": [
        "class Luchador:\n",
        "  def __init__(self,nombre,alias,estilo,enmascarado):\n",
        "    self.nombre=nombre\n",
        "    self.alias=alias\n",
        "    self.estilo=estilo\n",
        "    self.enmascarado=enmascarado\n",
        "    self.peleas_ganadas=0\n",
        "    self.peleas_perdidas=0\n",
        "\n",
        "  def se_presenta(self):\n",
        "    print(\"Mi nombre es \",self.nombre, \"y soy\", self.alias)\n",
        "\n",
        "  def atacando(self):\n",
        "    print(self.nombre, \" está haciendo una plancha\")\n",
        "\n",
        "  def gana(self):\n",
        "    print(\"He ganado ja ja ja\")\n",
        "    self.peleas_ganadas+=1\n",
        "\n",
        "  def pierde(self):\n",
        "    print(\"He perdido, rayos!\")\n",
        "    self.peleas_perdidas-=1\n"
      ],
      "metadata": {
        "id": "0sJ9J20WN_dz"
      },
      "execution_count": null,
      "outputs": []
    },
    {
      "cell_type": "code",
      "source": [
        "#instanciando el objeto amapola\n",
        "amapola=Luchador(\"Amapola\",\"la flor letal\",\"rudo\",False)"
      ],
      "metadata": {
        "id": "dGle55RoRGUb"
      },
      "execution_count": null,
      "outputs": []
    },
    {
      "cell_type": "code",
      "source": [
        "#ejecutando el método\n",
        "amapola.se_presenta()"
      ],
      "metadata": {
        "colab": {
          "base_uri": "https://localhost:8080/"
        },
        "id": "RzJBcSMPRpKj",
        "outputId": "5536a099-a38d-415e-ebe4-8cffa5713bd9"
      },
      "execution_count": null,
      "outputs": [
        {
          "output_type": "stream",
          "name": "stdout",
          "text": [
            "Mi nombre es  Amapola y soy la flor letal\n"
          ]
        }
      ]
    },
    {
      "cell_type": "code",
      "source": [
        "#ver las peleas ganadas del objeto amapola\n",
        "amapola.peleas_ganadas "
      ],
      "metadata": {
        "colab": {
          "base_uri": "https://localhost:8080/"
        },
        "id": "A4YQ-v_wR_Qu",
        "outputId": "97372a2d-9430-4177-a20f-1e265dcb90dd"
      },
      "execution_count": null,
      "outputs": [
        {
          "output_type": "execute_result",
          "data": {
            "text/plain": [
              "0"
            ]
          },
          "metadata": {},
          "execution_count": 77
        }
      ]
    },
    {
      "cell_type": "code",
      "source": [
        "#amapola gana dos veces\n",
        "amapola.gana()\n",
        "amapola.gana()"
      ],
      "metadata": {
        "colab": {
          "base_uri": "https://localhost:8080/"
        },
        "id": "3r0Iuxq7R8Gj",
        "outputId": "94324203-45b9-4608-bbe5-3a98f12796db"
      },
      "execution_count": null,
      "outputs": [
        {
          "output_type": "stream",
          "name": "stdout",
          "text": [
            "He ganado ja ja ja\n",
            "He ganado ja ja ja\n"
          ]
        }
      ]
    },
    {
      "cell_type": "code",
      "source": [
        "#ver las peleas ganadas del objeto amapola\n",
        "amapola.peleas_ganadas"
      ],
      "metadata": {
        "colab": {
          "base_uri": "https://localhost:8080/"
        },
        "id": "n9hQDEySSOnH",
        "outputId": "46ceaca3-3c8b-4deb-8c4a-32f27130d38a"
      },
      "execution_count": null,
      "outputs": [
        {
          "output_type": "execute_result",
          "data": {
            "text/plain": [
              "2"
            ]
          },
          "metadata": {},
          "execution_count": 79
        }
      ]
    },
    {
      "cell_type": "code",
      "source": [
        "#instanciando al luchador místico\n",
        "mistico=Luchador(\"mistico\",\"la nueva era\",\"tecnico\",True) #instanciar a mistico"
      ],
      "metadata": {
        "id": "hHhXpjT6VBn9"
      },
      "execution_count": null,
      "outputs": []
    },
    {
      "cell_type": "code",
      "source": [
        "#acceder a un atributo\n",
        "mistico.alias"
      ],
      "metadata": {
        "colab": {
          "base_uri": "https://localhost:8080/",
          "height": 35
        },
        "id": "pWjpv_EsVmt1",
        "outputId": "4b5ab684-99db-4a17-a4ae-6c8af0a56447"
      },
      "execution_count": null,
      "outputs": [
        {
          "output_type": "execute_result",
          "data": {
            "text/plain": [
              "'la nueva era'"
            ],
            "application/vnd.google.colaboratory.intrinsic+json": {
              "type": "string"
            }
          },
          "metadata": {},
          "execution_count": 82
        }
      ]
    },
    {
      "cell_type": "code",
      "source": [
        "#místico pierde la mascara : Cambiar atributo\n",
        "mistico.enmascarado=False"
      ],
      "metadata": {
        "id": "SAnuJsr9VaJW"
      },
      "execution_count": null,
      "outputs": []
    },
    {
      "cell_type": "code",
      "source": [
        "# como ha perdido la mascara , esta dudando y seguir siendo técnico\n",
        "mistico.estilo"
      ],
      "metadata": {
        "id": "e6-VIEaWWOTE"
      },
      "execution_count": null,
      "outputs": []
    },
    {
      "cell_type": "code",
      "source": [
        "#vamos a eliminar su atributo estilo\n",
        "del mistico.estilo"
      ],
      "metadata": {
        "id": "cufqm3c2WlzN"
      },
      "execution_count": null,
      "outputs": []
    },
    {
      "cell_type": "code",
      "source": [
        "#agregar atributo\n",
        "mistico.maestros=\"toro blanco, arkangel, franco colombo\""
      ],
      "metadata": {
        "id": "gP4p1rsfVfwc"
      },
      "execution_count": null,
      "outputs": []
    },
    {
      "cell_type": "code",
      "source": [
        "#acceder al nuevo atributo\n",
        "mistico.maestros"
      ],
      "metadata": {
        "colab": {
          "base_uri": "https://localhost:8080/",
          "height": 35
        },
        "id": "Odo_iTTHV2uE",
        "outputId": "738ab461-1f7d-4813-b914-861d8f264bb6"
      },
      "execution_count": null,
      "outputs": [
        {
          "output_type": "execute_result",
          "data": {
            "text/plain": [
              "'toro blanco, arkangel, franco colombo'"
            ],
            "application/vnd.google.colaboratory.intrinsic+json": {
              "type": "string"
            }
          },
          "metadata": {},
          "execution_count": 103
        }
      ]
    },
    {
      "cell_type": "markdown",
      "source": [
        "## 4.-Herencia"
      ],
      "metadata": {
        "id": "7bCRZsrneZ27"
      }
    },
    {
      "cell_type": "markdown",
      "source": [
        "Cuando hablamos de herencia en programación no nos referimos precisamente a que algún familiar lejano nos ha podido dejar una fortuna, ya nos gustaría. En realidad se trata de uno de los pilares fundamentales de la programación orientada a objetos. Es el mecanismo por el cual <b>una clase permite heredar las características (atributos y métodos) de otra clase</b>. <br>\n",
        "\n",
        "La herencia permite que se puedan definir <b>nuevas clases basadas de unas ya existentes</b> a fin de <b>reutilizar</b> el código, generando así una jerarquía de clases dentro de una aplicación. Si una clase deriva de otra, esta <b>hereda sus atributos y métodos</b> y puede añadir nuevos atributos, métodos o redefinir los heredados."
      ],
      "metadata": {
        "id": "kjhXdW8zxoFK"
      }
    },
    {
      "cell_type": "markdown",
      "source": [
        "### 4.1 Ejercicio 3 \"Olimpiadas\""
      ],
      "metadata": {
        "id": "VYGmzc_6aZSU"
      }
    },
    {
      "cell_type": "markdown",
      "source": [
        "Para los juegos olímpicos nos toca hacer las fichas de los atletas cuya disciplina es de contacto (boxeo, lucha olímpica, y taekwondo).Los atletas comparten tipos de atributos en común (nombre, país, edad), sin embargo también tienen atributos y acciones(métodos) particulares a cada disciplina."
      ],
      "metadata": {
        "id": "RDMVJWjeAFWF"
      }
    },
    {
      "cell_type": "markdown",
      "source": [
        "<img src=\"https://drive.google.com/uc?export=download&id=18uftYZqs2gPKGqFBqbUZDQwtXWHI2pWX\" width=\"600\"/> \n"
      ],
      "metadata": {
        "id": "kqF8kPxQ_0jx"
      }
    },
    {
      "cell_type": "code",
      "source": [
        "# Creamos una \"super clase\" lo más genérica posible de la cual se van a desprender las subclases\n",
        "class Atleta:\n",
        "  def __init__(self,nombre,pais,edad):\n",
        "    self.nombre=nombre\n",
        "    self.pais=pais\n",
        "    self.edad=edad\n",
        "\n",
        "  def saludar(self):\n",
        "    print(f\"Hola, soy {self.nombre}, y represento a {self.pais}\")\n"
      ],
      "metadata": {
        "id": "KdeV_YgNeb8S"
      },
      "execution_count": null,
      "outputs": []
    },
    {
      "cell_type": "code",
      "source": [
        "#voy a generar la clase Boxeador que va a heredar de la clase Atleta\n",
        "class Boxeador(Atleta):\n",
        "  pass"
      ],
      "metadata": {
        "id": "s1NBiFyffR5U"
      },
      "execution_count": null,
      "outputs": []
    },
    {
      "cell_type": "code",
      "source": [
        "#si creo un objeto Boxeador, tengo que agregar los atributos de la super clase Atleta\n",
        "chavez=Boxeador(\"julio cesar\",\"México\",36)"
      ],
      "metadata": {
        "id": "IDaLFPbgfq1W"
      },
      "execution_count": null,
      "outputs": []
    },
    {
      "cell_type": "code",
      "source": [
        "#también el objeto creado hereda sus métodos, al menos que sean privados (dos guiones bajo)\n",
        "chavez.saludar()"
      ],
      "metadata": {
        "colab": {
          "base_uri": "https://localhost:8080/"
        },
        "id": "RKvsRUo6f8Nq",
        "outputId": "520fdffe-16e9-4937-9c39-18ad9c71af5f"
      },
      "execution_count": null,
      "outputs": [
        {
          "output_type": "stream",
          "name": "stdout",
          "text": [
            "Hola, soy julio cesar, y represento a México\n"
          ]
        }
      ]
    },
    {
      "cell_type": "markdown",
      "source": [
        "¿La clase puede tener sus propios métodos?"
      ],
      "metadata": {
        "id": "MoudLNHHyFM9"
      }
    },
    {
      "cell_type": "code",
      "source": [
        "class Boxeador2(Atleta): #estoy creando una nueva clase Boxeador2, que hereda de atleta\n",
        "  def golpe(self,tipo_golpe): #va a tener su propio método que es decir su golpe favorito\n",
        "    print(\"Mi golpe preferido es\",tipo_golpe)"
      ],
      "metadata": {
        "id": "W8PyPQiOiXz2"
      },
      "execution_count": null,
      "outputs": []
    },
    {
      "cell_type": "code",
      "source": [
        "terrible=Boxeador2(\"Erick\",\"México\",25) #instanciamos un objeto con la clase Boxeador 2"
      ],
      "metadata": {
        "id": "D-9xw8qNiu3_"
      },
      "execution_count": null,
      "outputs": []
    },
    {
      "cell_type": "code",
      "source": [
        "terrible.golpe(\"cruzado\") #el objeto hereda los métodos de la super clase, pero también sus propios métodos"
      ],
      "metadata": {
        "colab": {
          "base_uri": "https://localhost:8080/"
        },
        "id": "bKq42jqvjB_G",
        "outputId": "04043cdf-eee5-47bc-c978-f1f20be0b8ef"
      },
      "execution_count": null,
      "outputs": [
        {
          "output_type": "stream",
          "name": "stdout",
          "text": [
            "Mi golpe preferido es cruzado\n"
          ]
        }
      ]
    },
    {
      "cell_type": "code",
      "source": [
        "# Sus métodos tambien pueden usar atributos de la super clase\n",
        "class Boxeador3(Atleta):\n",
        "  def decir_edad(self):\n",
        "    print(\"mi edad es\",self.edad)"
      ],
      "metadata": {
        "id": "Zjzolrqyg9Xk"
      },
      "execution_count": null,
      "outputs": []
    },
    {
      "cell_type": "code",
      "source": [
        "#Si se crea un objeto Boxeador 3, tengo que agregar los atributos de atleta\n",
        "pacquiao=Boxeador3(\"Manny\",\"Filipinas\",29)"
      ],
      "metadata": {
        "id": "wSnmVfqWhQnT"
      },
      "execution_count": null,
      "outputs": []
    },
    {
      "cell_type": "code",
      "source": [
        "pacquiao.decir_edad()"
      ],
      "metadata": {
        "colab": {
          "base_uri": "https://localhost:8080/"
        },
        "id": "CgKe_jtzhS7s",
        "outputId": "368bf1c2-3cd0-49c9-8c1b-6e711afb912a"
      },
      "execution_count": null,
      "outputs": [
        {
          "output_type": "stream",
          "name": "stdout",
          "text": [
            "mi edad es 29\n"
          ]
        }
      ]
    },
    {
      "cell_type": "markdown",
      "source": [
        "¿Las subclases también pueden tener sus propios atributos?"
      ],
      "metadata": {
        "id": "uRpwF883LlQc"
      }
    },
    {
      "cell_type": "code",
      "source": [
        "'''\n",
        "Genero la clase Boxeador_atleta, la cual hereda de Atleta\n",
        "pero también va a tener sus atributos propios como lo son\n",
        "postura (zurdo, diestro) y su alcance (distancia entre brazo y brazo),\n",
        "le asigno un método propio que va a ser \"lanzar un jap\"\n",
        "'''\n",
        "\n",
        "class Boxeador_atleta(Atleta):\n",
        "  def __init__(self,nombre,pais,edad,postura,alcance):\n",
        "    super().__init__(nombre,pais,edad)\n",
        "    self.postura=postura\n",
        "    self.alcance=alcance\n",
        "  \n",
        "  def lanzar_jap(self):\n",
        "    print(self.nombre,\"acaba de lanzar un jap\")"
      ],
      "metadata": {
        "id": "itgCokmMlsIz"
      },
      "execution_count": null,
      "outputs": []
    },
    {
      "cell_type": "code",
      "source": [
        "canelo=Boxeador_atleta(\"saul\",\"México\",34,\"zurdo\",1.60) #instancio un objeto con esa clase"
      ],
      "metadata": {
        "id": "XappGnESo61s"
      },
      "execution_count": null,
      "outputs": []
    },
    {
      "cell_type": "code",
      "source": [
        "canelo.saludar() #puedo ejecutar el método de la supe clase"
      ],
      "metadata": {
        "colab": {
          "base_uri": "https://localhost:8080/"
        },
        "id": "WnLDWcCDpS3E",
        "outputId": "a18ec6ff-feff-4a47-9f62-55ae17829979"
      },
      "execution_count": null,
      "outputs": [
        {
          "output_type": "stream",
          "name": "stdout",
          "text": [
            "Hola, soy saul, y represento a México\n"
          ]
        }
      ]
    },
    {
      "cell_type": "code",
      "source": [
        "canelo.lanzar_jap() #puedo ejecutar sus propios métodos"
      ],
      "metadata": {
        "colab": {
          "base_uri": "https://localhost:8080/"
        },
        "id": "EWzj-j_upYN0",
        "outputId": "e60ca69b-54d9-43de-b0e8-3e52d3f8b450"
      },
      "execution_count": null,
      "outputs": [
        {
          "output_type": "stream",
          "name": "stdout",
          "text": [
            "saul acaba de lanzar un jap\n"
          ]
        }
      ]
    },
    {
      "cell_type": "code",
      "source": [
        ""
      ],
      "metadata": {
        "id": "kzjhn8Wxplxm"
      },
      "execution_count": null,
      "outputs": []
    },
    {
      "cell_type": "markdown",
      "source": [
        "## Ejercicio a"
      ],
      "metadata": {
        "id": "h08E0qtzKPiD"
      }
    },
    {
      "cell_type": "markdown",
      "source": [
        "Instanciar los otros dos tipos de atletas, considerando que el atleta de taekwondo también tiene los atributos, <b>color de cinta y color de peto</b>, y tiene un método que es <b>\"lanzar una patada\"</b>, por su parte el luchador olímpico tiene como propiedad extra el <b>color de la butarga</b> y como método tiene el \"Derribar a su oponente\""
      ],
      "metadata": {
        "id": "CIVWR37bpnOW"
      }
    },
    {
      "cell_type": "code",
      "source": [
        "class Taek_atleta(Atleta):\n",
        "  def __init__(self,nombre,pais,edad,cinta,peto):\n",
        "    super().__init__(nombre,pais,edad)\n",
        "    self.cinta=cinta\n",
        "    self.peto=peto\n",
        "  \n",
        "  def lanzar_patada(self):\n",
        "    print(self.nombre,\"acaba de lanzar una patada de empeine\")"
      ],
      "metadata": {
        "id": "-XNaw3GWppNv"
      },
      "execution_count": null,
      "outputs": []
    },
    {
      "cell_type": "code",
      "source": [
        "class Lucha_atleta(Atleta):\n",
        "  def __init__(self,nombre,pais,edad,color_butarga):\n",
        "    super().__init__(nombre,pais,edad)\n",
        "    self.color_butarga=color_butarga\n",
        "\n",
        "  def derriba(self):\n",
        "    print(self.nombre,\"acaba de derribar a su oponente\")"
      ],
      "metadata": {
        "id": "mRzQ43xdp-74"
      },
      "execution_count": null,
      "outputs": []
    },
    {
      "cell_type": "code",
      "source": [
        "class Lucha_atleta2(Atleta):\n",
        "  def __init__(self,nombre,pais,edad,color_butarga):\n",
        "    Atleta.__init__(self,nombre,pais,edad) #en lugar de poner super()\n",
        "    self.color_butarga=color_butarga\n",
        "\n",
        "  def derriba(self):\n",
        "    print(self.nombre,\"acaba de derribar a su oponente\")"
      ],
      "metadata": {
        "id": "tXxUgYiatvJY"
      },
      "execution_count": null,
      "outputs": []
    },
    {
      "cell_type": "code",
      "source": [
        "######## Instanciar Taekwondo\n",
        "iridia=Taek_atleta(\"iridia salazar\",\"mexico\",23,\"negra\",\"azul\")"
      ],
      "metadata": {
        "id": "K92ZaP1DsiHq"
      },
      "execution_count": null,
      "outputs": []
    },
    {
      "cell_type": "code",
      "source": [
        "iridia.cinta"
      ],
      "metadata": {
        "colab": {
          "base_uri": "https://localhost:8080/",
          "height": 35
        },
        "id": "gVoAFNgytGYe",
        "outputId": "8274d3c3-0df4-449a-9da3-faf0b121d691"
      },
      "execution_count": null,
      "outputs": [
        {
          "output_type": "execute_result",
          "data": {
            "text/plain": [
              "'negra'"
            ],
            "application/vnd.google.colaboratory.intrinsic+json": {
              "type": "string"
            }
          },
          "metadata": {},
          "execution_count": 31
        }
      ]
    },
    {
      "cell_type": "code",
      "source": [
        "######## Instanciar Luchadora olímpica\n",
        "iridia.lanzar_patada()"
      ],
      "metadata": {
        "colab": {
          "base_uri": "https://localhost:8080/"
        },
        "id": "yJxn_yfOs34M",
        "outputId": "b05f0c51-0322-42a1-e962-14f59134ab63"
      },
      "execution_count": null,
      "outputs": [
        {
          "output_type": "stream",
          "name": "stdout",
          "text": [
            "iridia acaba de lanzar una patada de empeine\n"
          ]
        }
      ]
    },
    {
      "cell_type": "code",
      "source": [
        "jane=Lucha_atleta2(\"Jane Valencia\",\"México\",23,\"tricolor\")"
      ],
      "metadata": {
        "id": "f0Cfza90hL5S"
      },
      "execution_count": null,
      "outputs": []
    },
    {
      "cell_type": "code",
      "source": [
        "jane.derriba()"
      ],
      "metadata": {
        "colab": {
          "base_uri": "https://localhost:8080/"
        },
        "id": "AK5JjQiileqp",
        "outputId": "e88db214-d572-4164-9c25-73f497d8b552"
      },
      "execution_count": null,
      "outputs": [
        {
          "output_type": "stream",
          "name": "stdout",
          "text": [
            "Jane Valencia acaba de derribar a su oponente\n"
          ]
        }
      ]
    },
    {
      "cell_type": "markdown",
      "source": [
        "## Ejercicio b"
      ],
      "metadata": {
        "id": "_IBvv6BEKJ4E"
      }
    },
    {
      "cell_type": "markdown",
      "source": [
        "\n",
        "Tenemos dentro de la empresa dos tipos de empleados, los desarrolladores frontend y los desarrolladores backend, ambos comparten atributos cómo , nombre, edad y experiencia, sin embargo los frontend son capaces de hacer una landing page , mientras los backend pueden estructurar ena base en firebase <br>\n",
        "\n",
        "Juanito es un empleado que tiene ambos perfiles, desde una visión de POO como hacemos para estructurar en enunciado anterior y crear al objeto \"Juanito\""
      ],
      "metadata": {
        "id": "sPxJHIcBrZrc"
      }
    },
    {
      "cell_type": "code",
      "source": [
        "class Empleado:\n",
        "  def __init__(self,nombre,edad,experiencia):\n",
        "    self.nombre=nombre\n",
        "    self.edad=edad\n",
        "    self.experiencia=experiencia\n",
        "\n",
        "  def presentarse(self):\n",
        "    print(f\"hola soy {self.nombre}, mucho gusto\")\n",
        "\n",
        "class Frontend(Empleado):\n",
        "  especialidad=\"material design\"\n",
        "  def hacer_web(self):\n",
        "    print(\"haciendo landing page\")\n",
        "\n",
        "class Backend(Empleado):\n",
        "  def hacer_base(self):\n",
        "    print(\"estructurando una base en Firebase\")\n",
        "\n",
        "class fullstack(Backend,Frontend): #Fullstack hereda de dos clases a esto se le conoce como herencia multiple\n",
        "  pass\n",
        "\n"
      ],
      "metadata": {
        "id": "hyZVg7xOriQM"
      },
      "execution_count": null,
      "outputs": []
    },
    {
      "cell_type": "code",
      "source": [
        "juanito=fullstack(\"Juanito\",33,10)"
      ],
      "metadata": {
        "id": "FiDgXaP3vRva"
      },
      "execution_count": null,
      "outputs": []
    },
    {
      "cell_type": "code",
      "source": [
        "juanito.hacer_base()"
      ],
      "metadata": {
        "colab": {
          "base_uri": "https://localhost:8080/"
        },
        "id": "NrRTNy1w3j4s",
        "outputId": "9a43c97c-5f7a-4d38-c13e-79216119456e"
      },
      "execution_count": null,
      "outputs": [
        {
          "output_type": "stream",
          "name": "stdout",
          "text": [
            "estructurando una base en Firebase\n"
          ]
        }
      ]
    },
    {
      "cell_type": "code",
      "source": [
        "juanito.hacer_web()"
      ],
      "metadata": {
        "colab": {
          "base_uri": "https://localhost:8080/"
        },
        "id": "oFSLjBCe5SNP",
        "outputId": "19db6592-b40e-41c7-ae0a-39bbedafa548"
      },
      "execution_count": null,
      "outputs": [
        {
          "output_type": "stream",
          "name": "stdout",
          "text": [
            "haciendo landing page\n"
          ]
        }
      ]
    },
    {
      "cell_type": "code",
      "source": [
        "juanito.presentarse()"
      ],
      "metadata": {
        "id": "qsKDcFVC34XY",
        "colab": {
          "base_uri": "https://localhost:8080/"
        },
        "outputId": "52d3832c-bb4b-4fe5-a51c-e9343de8a50b"
      },
      "execution_count": null,
      "outputs": [
        {
          "output_type": "stream",
          "name": "stdout",
          "text": [
            "hola soy Juanito, mucho gusto\n"
          ]
        }
      ]
    }
  ]
}