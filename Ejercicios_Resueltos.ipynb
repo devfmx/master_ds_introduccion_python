{
  "nbformat": 4,
  "nbformat_minor": 0,
  "metadata": {
    "colab": {
      "name": "Ejercicios Resueltos",
      "provenance": [],
      "collapsed_sections": [],
      "authorship_tag": "ABX9TyM+TSdfh+EH5n28VMQ2g1rq",
      "include_colab_link": true
    },
    "kernelspec": {
      "name": "python3",
      "display_name": "Python 3"
    },
    "language_info": {
      "name": "python"
    }
  },
  "cells": [
    {
      "cell_type": "markdown",
      "metadata": {
        "id": "view-in-github",
        "colab_type": "text"
      },
      "source": [
        "<a href=\"https://colab.research.google.com/github/devfmx/master_ds_introduccion_python/blob/main/Ejercicios_Resueltos.ipynb\" target=\"_parent\"><img src=\"https://colab.research.google.com/assets/colab-badge.svg\" alt=\"Open In Colab\"/></a>"
      ]
    },
    {
      "cell_type": "markdown",
      "source": [
        "<img src=\"https://devf-website.s3.amazonaws.com/static/assets/img/logo-devf-negro.png\" width=\"150\"/> \n",
        "<h3> <strong>Master en Data Science/AI</strong> </h3>\n",
        "<h4> Introducción al lenguaje python </h4>\n",
        "<strong>\n",
        "Sensei: Zelzin Márquez <br>\n",
        "Sensei: Armando Valdés\n",
        "</strong>"
      ],
      "metadata": {
        "id": "Yf7aJnIelI76"
      }
    },
    {
      "cell_type": "markdown",
      "source": [
        "###Ejercicio Venta de camisetas"
      ],
      "metadata": {
        "id": "KD7yqsftKtDj"
      }
    },
    {
      "cell_type": "markdown",
      "source": [
        "Te proponemos pongas en práctica lo que hemos visto hasta el momento para resolver el siguiente ejercicio. \n",
        "Al final te dejamos la liga para que nos puedas compartir cómo fue que lo abordaste (no importa si no lo terminaste del todo), una vez enviado , te compartiremos una propuesta de cómo resolverlo"
      ],
      "metadata": {
        "id": "MtqlUVqYKxGW"
      }
    },
    {
      "cell_type": "markdown",
      "source": [
        "<img src=\"https://drive.google.com/uc?export=download&id=1F9w3pbN2diDMsMWUVKKWDQP8Nefx6JGA\" width=\"800\">"
      ],
      "metadata": {
        "id": "nIkjShtWK0A6"
      }
    },
    {
      "cell_type": "code",
      "source": [
        "#situacion 1\n",
        "'''\n",
        "Hay promoción !\n",
        "Si es del club “chivas”, descuento del 10%\n",
        "si es del club “america”  descuento del 20%\n",
        "si es de otro club no hay descuento\n",
        "'''\n",
        "club='chivas'\n",
        "precio=100\n",
        "\n",
        "if club =='chivas':\n",
        "  print(\"el precio final es\", precio-10)\n",
        "elif club =='america':\n",
        "    print(\"el precio final es \",precio -20)  \n",
        "else:\n",
        "    print(precio)"
      ],
      "metadata": {
        "colab": {
          "base_uri": "https://localhost:8080/"
        },
        "id": "-2RHhqNdK2Ki",
        "outputId": "823863c4-513e-49e2-f60a-7e83141fafb1"
      },
      "execution_count": null,
      "outputs": [
        {
          "output_type": "stream",
          "name": "stdout",
          "text": [
            "el precio final es 90\n"
          ]
        }
      ]
    },
    {
      "cell_type": "code",
      "execution_count": null,
      "metadata": {
        "colab": {
          "base_uri": "https://localhost:8080/"
        },
        "id": "XzjE-jJsKDyw",
        "outputId": "5316eafb-cdc3-49b0-f53c-f85a28b8cbfc"
      },
      "outputs": [
        {
          "output_type": "stream",
          "name": "stdout",
          "text": [
            "el precio final es  75\n"
          ]
        }
      ],
      "source": [
        "#situación 2\n",
        "\n",
        "'''\n",
        "Precio extra si el cliente son mujeres se descuentan 5 pesos más,\n",
        "solo aplicable al jersey del club america\n",
        "'''\n",
        "\n",
        "club='america'\n",
        "precio=100\n",
        "cliente=\"mujer\"\n",
        "\n",
        "if club =='chivas':\n",
        "  print(\"el precio final es\", precio-10)\n",
        "elif club =='america':\n",
        "  if cliente==\"mujer\":\n",
        "    print(\"el precio final es \",precio -25)\n",
        "  else:\n",
        "    print(\"el precio final es \",precio -20)\n",
        "else:\n",
        "    print(precio)"
      ]
    },
    {
      "cell_type": "code",
      "source": [
        "#situacion 3\n",
        "'''\n",
        "La promoción ahora sólo va aplicar personas de edad menos de 12 años\n",
        "'''\n",
        "\n",
        "club='america'\n",
        "precio=100\n",
        "cliente=\"mujer\"\n",
        "edad=20\n",
        "\n",
        "if club =='chivas' and edad<=12:\n",
        "  print(\"el precio final es\", precio-10)\n",
        "elif club =='america' and edad<=12 :\n",
        "  if cliente==\"mujer\":\n",
        "    print(\"el precio final es \",precio -25)\n",
        "  else:\n",
        "    print(\"el precio final es \",precio -20)\n",
        "else:\n",
        "    print(precio)"
      ],
      "metadata": {
        "colab": {
          "base_uri": "https://localhost:8080/"
        },
        "id": "LQzqm2TPKHCp",
        "outputId": "ec3261a1-4c66-4186-8e37-038d195ae65a"
      },
      "execution_count": null,
      "outputs": [
        {
          "output_type": "stream",
          "name": "stdout",
          "text": [
            "100\n"
          ]
        }
      ]
    },
    {
      "cell_type": "code",
      "source": [
        "#situacion 4\n",
        "'''\n",
        "La promoción ahora solo va aplicar personas de edad menos de 12 años o con capacidades diferentes\n",
        "'''\n",
        "\n",
        "club='america'\n",
        "precio=100\n",
        "cliente=\"mujer\"\n",
        "edad=20\n",
        "cd=True\n",
        "\n",
        "if club =='chivas' and (edad<=12 or cd==True):\n",
        "  print(\"el precio final es\", precio-10)\n",
        "elif club =='america' and (edad<=12 or cd==True) :\n",
        "  if cliente==\"mujer\":\n",
        "    print(\"el precio final es \",precio -25)\n",
        "  else:\n",
        "    print(\"el precio final es \",precio -20)\n",
        "else:\n",
        "    print(precio)"
      ],
      "metadata": {
        "colab": {
          "base_uri": "https://localhost:8080/"
        },
        "id": "LLa-dklMLDuL",
        "outputId": "e91d4584-3bde-4b79-fde0-11c989bd31f4"
      },
      "execution_count": null,
      "outputs": [
        {
          "output_type": "stream",
          "name": "stdout",
          "text": [
            "el precio final es  75\n"
          ]
        }
      ]
    },
    {
      "cell_type": "markdown",
      "source": [
        "## Ejercicios con ciclos"
      ],
      "metadata": {
        "id": "bbljkWEGKHfY"
      }
    },
    {
      "cell_type": "markdown",
      "source": [
        "A continuación te proponemos 8 ejercicios (te ayudaremos con los primeros dos) en donde puedas aplicar el conociento adquirido ,puedes usar cualquiera de los dos ciclos para abordar y proponer un método de solución, recuerda que la liga de envío la dejaremos al final del notebook , una vez enviado te haremos llegar la forma en la que nosotros abordamos los ejercicios, recuerda que existen varias formas de solucionar un problema"
      ],
      "metadata": {
        "id": "6xY49OR8LaFa"
      }
    },
    {
      "cell_type": "code",
      "source": [
        "'''\n",
        "1.-Imprimir la tabla 97 del 10 al 20\n",
        "'''\n",
        "\n",
        "for k in range(10,21): #iteramos la variable k en un rango de 10 a 20\n",
        "  #pedimos que imprime una cadena de texto, el valor que va tomando k y la multiplicación por 97\n",
        "  print(\"97 X \",k,\" = \",k*97)  \n"
      ],
      "metadata": {
        "colab": {
          "base_uri": "https://localhost:8080/"
        },
        "id": "J1wZYBQnLbhL",
        "outputId": "15f3c2fb-1bf4-44f3-de35-783bd96b7b8f"
      },
      "execution_count": null,
      "outputs": [
        {
          "output_type": "stream",
          "name": "stdout",
          "text": [
            "97 X  10  =  970\n",
            "97 X  11  =  1067\n",
            "97 X  12  =  1164\n",
            "97 X  13  =  1261\n",
            "97 X  14  =  1358\n",
            "97 X  15  =  1455\n",
            "97 X  16  =  1552\n",
            "97 X  17  =  1649\n",
            "97 X  18  =  1746\n",
            "97 X  19  =  1843\n",
            "97 X  20  =  1940\n"
          ]
        }
      ]
    },
    {
      "cell_type": "code",
      "source": [
        "'''\n",
        "2.-Tienes un cachorro que nació en 2022, \n",
        "tomando en cuenta que un año humano es igual a 7 años perrunos, \n",
        "estructura un ciclo que vaya del 2022 al 2037 \n",
        "e imprima : tu edad, la edad que tendrá el cachorro y el año\n",
        "'''\n",
        "\n",
        "edad=int(input(\"¿Cuál es tu edad?\")) #pedimos al usuario la edad\n",
        "edad_cachorro=0 #la edad del cachorro en el presente año 2022 es 0\n",
        "\n",
        "count = 2022 #empezamos el contador en el presente año 2022\n",
        "while count <= 2037: #nos indica que el rango de años es hasta 2037\n",
        "    print ('En el año ',count, \"tu edad es \", edad , \"la edad del perro es \" , edad_cachorro)\n",
        "    count += 1 #el contador ira año por año (incremento)\n",
        "    edad +=1 #tu edad irá en incremento año a año\n",
        "    edad_cachorro+=7 #tomando en cuenta que los años perrunos equivalen a 7, la edad del cahorro iterara en 7\n",
        "\n"
      ],
      "metadata": {
        "colab": {
          "base_uri": "https://localhost:8080/"
        },
        "id": "KHM-0qXvLwgN",
        "outputId": "13a89483-86e1-4afd-f8bb-8d92a5a8d48f"
      },
      "execution_count": null,
      "outputs": [
        {
          "output_type": "stream",
          "name": "stdout",
          "text": [
            "¿Cuál es tu edad?12\n",
            "En el año  2022 tu edad es  12 la edad del perro es  0\n",
            "En el año  2023 tu edad es  13 la edad del perro es  7\n",
            "En el año  2024 tu edad es  14 la edad del perro es  14\n",
            "En el año  2025 tu edad es  15 la edad del perro es  21\n",
            "En el año  2026 tu edad es  16 la edad del perro es  28\n",
            "En el año  2027 tu edad es  17 la edad del perro es  35\n",
            "En el año  2028 tu edad es  18 la edad del perro es  42\n",
            "En el año  2029 tu edad es  19 la edad del perro es  49\n",
            "En el año  2030 tu edad es  20 la edad del perro es  56\n",
            "En el año  2031 tu edad es  21 la edad del perro es  63\n",
            "En el año  2032 tu edad es  22 la edad del perro es  70\n",
            "En el año  2033 tu edad es  23 la edad del perro es  77\n",
            "En el año  2034 tu edad es  24 la edad del perro es  84\n",
            "En el año  2035 tu edad es  25 la edad del perro es  91\n",
            "En el año  2036 tu edad es  26 la edad del perro es  98\n",
            "En el año  2037 tu edad es  27 la edad del perro es  105\n"
          ]
        }
      ]
    },
    {
      "cell_type": "code",
      "source": [
        "'''\n",
        "3.-Pedir al usuario un número “n” y un nombre, \n",
        "e imprimir en pantalla n veces su nombre\n",
        "'''\n",
        "\n",
        "\n",
        "nombre=str(input(\"pon tu nombre\")) #solicitamos el nombre\n",
        "veces=int(input(\"veces que quieres que se imprima\")) #solicitamos veces de impresion\n",
        "\n",
        "for i in range(veces): #iterar i de 0 a veces su nombre\n",
        "  print(nombre, \"numero de iteracion\",i) #imprimir el valor guardado en nombre\n",
        "\n",
        "#se imprime 10, porque aunque no cuente el numero diez, como el iterador empieza en 0, se compensa"
      ],
      "metadata": {
        "colab": {
          "base_uri": "https://localhost:8080/"
        },
        "id": "HvTrmJLqL_hL",
        "outputId": "9405cb20-eb6c-4b79-fcde-7b536558d44e"
      },
      "execution_count": null,
      "outputs": [
        {
          "output_type": "stream",
          "name": "stdout",
          "text": [
            "pon tu nombrearmand\n",
            "veces que quieres que se imprima10\n",
            "armand numero de iteracion 0\n",
            "armand numero de iteracion 1\n",
            "armand numero de iteracion 2\n",
            "armand numero de iteracion 3\n",
            "armand numero de iteracion 4\n",
            "armand numero de iteracion 5\n",
            "armand numero de iteracion 6\n",
            "armand numero de iteracion 7\n",
            "armand numero de iteracion 8\n",
            "armand numero de iteracion 9\n"
          ]
        }
      ]
    },
    {
      "cell_type": "code",
      "source": [
        "'''\n",
        "4.-Imprimir años bisiestos que hay del 2022 al 2050 \n",
        "*tomando en cuenta que el 2024 es año bisiesto\n",
        "'''\n",
        "anio = 2024 #empezamos en 2024, ya que este es bisiesto\n",
        "while anio <= 2050: #mientras el año sea menor o igual a 2050\n",
        "    print (anio, \"es año bisiesto\") #imprimir que el año es bisiesto\n",
        "    anio += 4 #iterar de 4 en 4"
      ],
      "metadata": {
        "colab": {
          "base_uri": "https://localhost:8080/"
        },
        "id": "crtE5vtGMHfk",
        "outputId": "d934bcb9-e234-48ac-f772-ef0c96df29ce"
      },
      "execution_count": null,
      "outputs": [
        {
          "output_type": "stream",
          "name": "stdout",
          "text": [
            "2024 es año bisiesto\n",
            "2028 es año bisiesto\n",
            "2032 es año bisiesto\n",
            "2036 es año bisiesto\n",
            "2040 es año bisiesto\n",
            "2044 es año bisiesto\n",
            "2048 es año bisiesto\n"
          ]
        }
      ]
    },
    {
      "cell_type": "code",
      "source": [
        "'''\n",
        "5.-Pide al usuario un monto de deuda y cuánto es el pago mensual \n",
        "y que el programa imprima como se va reduciendo su deuda \n",
        "mensualmente hasta llegar a cero (quedar liquidada)\n",
        "'''\n",
        "deuda = int(input(\"introduce tu deuda\")) #solicitamos valores\n",
        "pago_mes=int(input(\"introduce tu pago mensual\")) #solicitamos valores\n",
        "\n",
        "contador=0 #iniciamos el contador en el año 0\n",
        "\n",
        "while deuda >= 0: #mientras la deuda sea mayor a cero\n",
        "    print ('mes ', contador, 'tu deuda es de ', deuda) #imprime, mes tu deuda y el contador\n",
        "    deuda -=pago_mes #la deuda irá en decremento cada vez dependiendo del pago mensual\n",
        "    contador+=1 # el contador ira aumentando (año con año)"
      ],
      "metadata": {
        "colab": {
          "base_uri": "https://localhost:8080/"
        },
        "id": "-CXEOECrMQzD",
        "outputId": "7baedc4b-4a35-4f3e-cbe2-c9cf3dc57238"
      },
      "execution_count": null,
      "outputs": [
        {
          "output_type": "stream",
          "name": "stdout",
          "text": [
            "introduce tu deuda5000\n",
            "introduce tu pago mensual1000\n",
            "mes  0 tu deuda es de  5000\n",
            "mes  1 tu deuda es de  4000\n",
            "mes  2 tu deuda es de  3000\n",
            "mes  3 tu deuda es de  2000\n",
            "mes  4 tu deuda es de  1000\n",
            "mes  5 tu deuda es de  0\n"
          ]
        }
      ]
    },
    {
      "cell_type": "code",
      "source": [
        "'''\n",
        "6.-Pide al usuario una cantidad a invertir, una tasa de interés anual (ejemplo 0.15)\n",
        "y que vaya imprimiendo cómo cambia el capital de su dinero durante los próximos 10 años\n",
        "'''\n",
        "\n",
        "inversion=int(input(\"cantidad a invertir\")) #pedimos la inversión inicial\n",
        "tasa=float(input(\"tasa de interes\")) #pedimos la tasa de interes en tipo flotante\n",
        "\n",
        "capital=inversion + (inversion*tasa) #el capital inicial será igual a la inversión mas su tasa de interés\n",
        "\n",
        "for i in range(10): #queremos ver los proximos 10 años\n",
        "  print(\"tu capital acumulado es de \",capital)\n",
        "  capital=capital+(inversion*tasa) #la iteracion del capital irá acumulandose\n"
      ],
      "metadata": {
        "colab": {
          "base_uri": "https://localhost:8080/"
        },
        "id": "QQCgKx4GMtsM",
        "outputId": "8c1e9071-b346-4ba6-aeec-16047019114a"
      },
      "execution_count": null,
      "outputs": [
        {
          "output_type": "stream",
          "name": "stdout",
          "text": [
            "cantidad a invertir1000\n",
            "tasa de interes0.15\n",
            "tu capital acumulado es de  1150.0\n",
            "tu capital acumulado es de  1300.0\n",
            "tu capital acumulado es de  1450.0\n",
            "tu capital acumulado es de  1600.0\n",
            "tu capital acumulado es de  1750.0\n",
            "tu capital acumulado es de  1900.0\n",
            "tu capital acumulado es de  2050.0\n",
            "tu capital acumulado es de  2200.0\n",
            "tu capital acumulado es de  2350.0\n",
            "tu capital acumulado es de  2500.0\n"
          ]
        }
      ]
    },
    {
      "cell_type": "code",
      "source": [
        "'''\n",
        "7.-Un caracol está en la base de una pared que mide 10 metros de altura. \n",
        "El caracol tiene que llegar a lo alto de la pared y empieza a subir: \n",
        "cada día sube dos metros, pero por la noche se duerme, y resbala un metro. \n",
        "La pregunta es cuántos días tarda en llegar a lo alto de la pared.\n",
        "Estructura un ciclo que indique e imprima cada día el avance del caracol hasta que llegue a lo alto de la pared\n",
        "'''\n",
        "\n",
        "dia=1\n",
        "altura_recorrida=0\n",
        "\n",
        "while True:\n",
        "  altura_recorrida+=2 #Cada día sube dos metros\n",
        "  print (\"día \", dia, \"altura subida \", altura_recorrida)\n",
        "  if altura_recorrida == 10: #evalua si llega a lo alto, altura recorrida sea igual a 10\n",
        "    break #entonces rompe el ciclo\n",
        "  altura_recorrida=altura_recorrida-1 #resbala un metro cada noche, también se puede redactar altura_recorrida-=1\n",
        "  print (\"día \", dia, \"altura subida menos lo que resbaló, queda \", altura_recorrida)\n",
        "  dia+=1 #el incremento del día sera 1 a 1\n"
      ],
      "metadata": {
        "colab": {
          "base_uri": "https://localhost:8080/"
        },
        "id": "lgmBYPgNM6Xz",
        "outputId": "315bc7a0-6389-4cca-d679-28c806a96574"
      },
      "execution_count": null,
      "outputs": [
        {
          "output_type": "stream",
          "name": "stdout",
          "text": [
            "día  1 altura subida  2\n",
            "día  1 altura subida menos lo que resbaló, queda  1\n",
            "día  2 altura subida  3\n",
            "día  2 altura subida menos lo que resbaló, queda  2\n",
            "día  3 altura subida  4\n",
            "día  3 altura subida menos lo que resbaló, queda  3\n",
            "día  4 altura subida  5\n",
            "día  4 altura subida menos lo que resbaló, queda  4\n",
            "día  5 altura subida  6\n",
            "día  5 altura subida menos lo que resbaló, queda  5\n",
            "día  6 altura subida  7\n",
            "día  6 altura subida menos lo que resbaló, queda  6\n",
            "día  7 altura subida  8\n",
            "día  7 altura subida menos lo que resbaló, queda  7\n",
            "día  8 altura subida  9\n",
            "día  8 altura subida menos lo que resbaló, queda  8\n",
            "día  9 altura subida  10\n"
          ]
        }
      ]
    },
    {
      "cell_type": "code",
      "source": [
        "'''\n",
        "8.- Tenemos la contraseña \"devf16b\" , \n",
        "vamos a solicitar al usuario la contraseña mediante un bucle hasta que digite la contraseña correcta, \n",
        "le vamos a dar 5 oportunidades, en caso de digital la contraseña correcta\n",
        "le vamos a imprimir en pantalla, \"Bienvenido\"\n",
        "'''\n",
        "contrasena=\"devf16b\" #establecemos la contraseña\n",
        "contrasena_comparar=str(input(\"Digite su contraseña\")) #solicitamos al usuario que la ingrese\n",
        "intento=1 #establecemos el valor de los intentos\n",
        "\n",
        "if contrasena_comparar==contrasena:\n",
        "  print(\"Bienvenido\") #si escribe la contraseña correctamente le damos la bienvenida\n",
        "else: #si no lo hace\n",
        "  while contrasena_comparar!=contrasena: #vamos a solicitarla mientras sea diferente\n",
        "    print(\"llevas el intento\", intento) #imprimimos el intento que lleva\n",
        "    contrasena_comparar=str(input(\"Digite su contraseña\")) #seguiremos solicitandola\n",
        "    intento=intento+1 #los intentos iran incrementandose cada que la introduzca\n",
        "    if intento >= 5: #si excede los 5 intentos, le dejamos de preguntar\n",
        "      break\n",
        "    \n"
      ],
      "metadata": {
        "colab": {
          "base_uri": "https://localhost:8080/"
        },
        "id": "vaU9vPHONE_d",
        "outputId": "a5973204-5dac-43d8-a8a9-e66932a6e1a5"
      },
      "execution_count": null,
      "outputs": [
        {
          "name": "stdout",
          "output_type": "stream",
          "text": [
            "Digite su contraseñaalgo\n",
            "llevas el intento 1\n",
            "Digite su contraseñaalgo2\n",
            "llevas el intento 2\n",
            "Digite su contraseñaalgo3\n",
            "llevas el intento 3\n",
            "Digite su contraseñaalgo4\n",
            "llevas el intento 4\n",
            "Digite su contraseñaalgo5\n"
          ]
        }
      ]
    }
  ]
}