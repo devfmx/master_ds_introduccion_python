{
  "nbformat": 4,
  "nbformat_minor": 0,
  "metadata": {
    "colab": {
      "name": "Programación Modular (funciones)",
      "provenance": [],
      "collapsed_sections": [
        "IskONOA91LuY",
        "OHQfmMO-tIAp",
        "vPViLPq7tQl0",
        "Q-6arPd6tc0l",
        "aeI64EWrthAJ",
        "FEK7f9xstxtY",
        "RQrpc_OEIDw-"
      ],
      "toc_visible": true,
      "include_colab_link": true
    },
    "kernelspec": {
      "name": "python3",
      "display_name": "Python 3"
    },
    "language_info": {
      "name": "python"
    }
  },
  "cells": [
    {
      "cell_type": "markdown",
      "metadata": {
        "id": "view-in-github",
        "colab_type": "text"
      },
      "source": [
        "<a href=\"https://colab.research.google.com/github/devfmx/master_ds_introduccion_python/blob/main/Programaci%C3%B3n_Modular_(funciones).ipynb\" target=\"_parent\"><img src=\"https://colab.research.google.com/assets/colab-badge.svg\" alt=\"Open In Colab\"/></a>"
      ]
    },
    {
      "cell_type": "markdown",
      "source": [
        "<img src=\"https://devf-website.s3.amazonaws.com/static/assets/img/logo-devf-negro.png\" width=\"150\"/> \n",
        "<h3> <strong>Master en Data Science/AI</strong> </h3>\n",
        "<h4> Introducción al lenguaje python </h4>\n",
        "<h5> Programación Modular </h5>\n",
        "<strong>\n",
        "Sensei: Zelzin Márquez <br>\n",
        "Sensei: Armando Valdés\n",
        "</strong>"
      ],
      "metadata": {
        "id": "UbIVSa9aFTOi"
      }
    },
    {
      "cell_type": "markdown",
      "source": [
        "<img src=\"https://drive.google.com/uc?export=download&id=1IRCFOEWbggTCHd5GBc1BFEqwrI5qroJE\" width=\"600\"/> \n"
      ],
      "metadata": {
        "id": "rXytwNu9HDN7"
      }
    },
    {
      "cell_type": "markdown",
      "source": [
        "## 0.-Pendientes (secuencias)"
      ],
      "metadata": {
        "id": "IskONOA91LuY"
      }
    },
    {
      "cell_type": "markdown",
      "source": [
        "- Una <strong>secuencia</strong> es un tipo de objeto que almacena datos y que permite el acceso a una parte determinada de su información utilizando índices. \n",
        "- Las <strong>listas, tuplas y diccionarios</strong> son distintos tipos de secuencias.\n",
        "- Son estructuras que permiten trabajar con colecciones de datos de cualquier tipo, <strong>incluso otra secuencia.</strong>"
      ],
      "metadata": {
        "id": "lNfnQKUO-Rme"
      }
    },
    {
      "cell_type": "markdown",
      "source": [
        "<img src=\"https://drive.google.com/uc?export=download&id=1xapuFDqJDHjzwK38CVC4TYAEakt0Dz0t\" width=\"600\"/> "
      ],
      "metadata": {
        "id": "KDBGUhB67ab5"
      }
    },
    {
      "cell_type": "markdown",
      "source": [
        "*Siendo estrictos: Los arreglos son estructuras de datos estáticas, ya que hay que declarar su tamaño antes de utilizarlos, mientras las listas son estructuras de datos que pueden ir creciendo conforme se vaya requiriendo, por eso se considera que es una <strong>estructura de datos dinámica.</strong>"
      ],
      "metadata": {
        "id": "fqHd461K_Mez"
      }
    },
    {
      "cell_type": "markdown",
      "source": [
        "#### 0.1 Listas"
      ],
      "metadata": {
        "id": "m2PZwbBn6NpL"
      }
    },
    {
      "cell_type": "markdown",
      "source": [
        "Las listas son estructuras de datos que pueden almacenar cualquier otro tipo de dato, inclusive una lista, además, la cantidad de elementos de una lista se puede modificar removiendo o añadiendo elementos. Para definir una lista se utilizan los <strong>corchetes</strong>, dentro de estos se colocan todos los elementos separados por comas:"
      ],
      "metadata": {
        "id": "MDCo6rDO6Q7d"
      }
    },
    {
      "cell_type": "code",
      "source": [
        "lista_strings=[\"jorge\",\"juan\",\"tania\",\"selene\",\"raul\",\"esteban\",\"jessica\",True]\n",
        "lista_flotantes=[6.6,10.0,9.5,7.3,5.6,7.0,\"aaa\"]\n",
        "lista_mezcla=[\"string\",\"string\",[True,10,True],3.0,56]"
      ],
      "metadata": {
        "id": "jkGB_J-MAW6e"
      },
      "execution_count": 1,
      "outputs": []
    },
    {
      "cell_type": "code",
      "source": [
        "#acceder a un valor de la lista\n",
        "lista_flotantes[2]"
      ],
      "metadata": {
        "id": "xurzWLWIBK8d",
        "colab": {
          "base_uri": "https://localhost:8080/"
        },
        "outputId": "4534f95a-d2e8-4e20-ccb9-aac6f2279f5e"
      },
      "execution_count": 2,
      "outputs": [
        {
          "output_type": "execute_result",
          "data": {
            "text/plain": [
              "9.5"
            ]
          },
          "metadata": {},
          "execution_count": 2
        }
      ]
    },
    {
      "cell_type": "code",
      "source": [
        "#acceder a un valor de la lista\n",
        "lista_flotantes[-2]"
      ],
      "metadata": {
        "id": "KlJYQ7wTCCkb",
        "colab": {
          "base_uri": "https://localhost:8080/"
        },
        "outputId": "8fbd8a83-5585-42da-c671-c3f8ef546f0e"
      },
      "execution_count": 3,
      "outputs": [
        {
          "output_type": "execute_result",
          "data": {
            "text/plain": [
              "7.0"
            ]
          },
          "metadata": {},
          "execution_count": 3
        }
      ]
    },
    {
      "cell_type": "code",
      "source": [
        "#cambiar valor de una lista\n",
        "lista_flotantes[-2]=666"
      ],
      "metadata": {
        "id": "T7zq5qT4Eeaz"
      },
      "execution_count": 4,
      "outputs": []
    },
    {
      "cell_type": "code",
      "source": [
        "lista_flotantes[-2]"
      ],
      "metadata": {
        "id": "eQB7XVpDEt3A",
        "colab": {
          "base_uri": "https://localhost:8080/"
        },
        "outputId": "5900bf06-7987-46a4-e4cc-e1d0bf18edc5"
      },
      "execution_count": 5,
      "outputs": [
        {
          "output_type": "execute_result",
          "data": {
            "text/plain": [
              "666"
            ]
          },
          "metadata": {},
          "execution_count": 5
        }
      ]
    },
    {
      "cell_type": "code",
      "source": [
        "#acceder a un rango del valores *tomar en cuenta que solo hay 0-6 valores en la lista\n",
        "lista_strings[4:8]"
      ],
      "metadata": {
        "id": "eXkZvL7pBqs6",
        "colab": {
          "base_uri": "https://localhost:8080/"
        },
        "outputId": "ca943417-2893-498b-cdeb-9bbd03e749c6"
      },
      "execution_count": 6,
      "outputs": [
        {
          "output_type": "execute_result",
          "data": {
            "text/plain": [
              "['raul', 'esteban', 'jessica', True]"
            ]
          },
          "metadata": {},
          "execution_count": 6
        }
      ]
    },
    {
      "cell_type": "code",
      "source": [
        "lista_mezcla[2] #acceder a una lista dentro de otra lista"
      ],
      "metadata": {
        "id": "HpXtcpA7CquT",
        "colab": {
          "base_uri": "https://localhost:8080/"
        },
        "outputId": "947dd38d-6081-4742-f6b1-12f7dd27c560"
      },
      "execution_count": 7,
      "outputs": [
        {
          "output_type": "execute_result",
          "data": {
            "text/plain": [
              "[True, 10, True]"
            ]
          },
          "metadata": {},
          "execution_count": 7
        }
      ]
    },
    {
      "cell_type": "code",
      "source": [
        "lista_mezcla[2][1] #acceder a un valor de una lista anidada"
      ],
      "metadata": {
        "id": "9gcAFxmnCwxU",
        "colab": {
          "base_uri": "https://localhost:8080/"
        },
        "outputId": "98c2d741-9a1a-4472-ed91-e8c1ec3b0840"
      },
      "execution_count": 8,
      "outputs": [
        {
          "output_type": "execute_result",
          "data": {
            "text/plain": [
              "10"
            ]
          },
          "metadata": {},
          "execution_count": 8
        }
      ]
    },
    {
      "cell_type": "code",
      "source": [
        "#agregar valores\n",
        "lista_strings.append(\"Majo\")\n",
        "lista_strings.append(\"Lizeth\")"
      ],
      "metadata": {
        "id": "bheTXFWkCdlS"
      },
      "execution_count": 9,
      "outputs": []
    },
    {
      "cell_type": "code",
      "source": [
        "lista_strings"
      ],
      "metadata": {
        "id": "bgNwi3kzDomI",
        "colab": {
          "base_uri": "https://localhost:8080/"
        },
        "outputId": "766450e6-bdfe-414e-8bf9-d52535bcc5b3"
      },
      "execution_count": 10,
      "outputs": [
        {
          "output_type": "execute_result",
          "data": {
            "text/plain": [
              "['jorge',\n",
              " 'juan',\n",
              " 'tania',\n",
              " 'selene',\n",
              " 'raul',\n",
              " 'esteban',\n",
              " 'jessica',\n",
              " True,\n",
              " 'Majo',\n",
              " 'Lizeth']"
            ]
          },
          "metadata": {},
          "execution_count": 10
        }
      ]
    },
    {
      "cell_type": "code",
      "source": [
        "#eliminar valores\n",
        "lista_strings.remove(\"jessica\")"
      ],
      "metadata": {
        "id": "BWoELbfDDtQr"
      },
      "execution_count": 11,
      "outputs": []
    },
    {
      "cell_type": "code",
      "source": [
        "lista_strings"
      ],
      "metadata": {
        "id": "lTPTO-xVD0mN",
        "colab": {
          "base_uri": "https://localhost:8080/"
        },
        "outputId": "2c9093e3-8bce-49d5-c7d2-bfe393ef102e"
      },
      "execution_count": 12,
      "outputs": [
        {
          "output_type": "execute_result",
          "data": {
            "text/plain": [
              "['jorge', 'juan', 'tania', 'selene', 'raul', 'esteban', True, 'Majo', 'Lizeth']"
            ]
          },
          "metadata": {},
          "execution_count": 12
        }
      ]
    },
    {
      "cell_type": "markdown",
      "source": [
        "### 0.2 Tuplas (listas de sólo lectura)"
      ],
      "metadata": {
        "id": "Zb4gSGltD726"
      }
    },
    {
      "cell_type": "markdown",
      "source": [
        "Las tuplas son secuencias de elementos similares a las listas, la diferencia principal es que las tuplas <strong>no pueden ser modificadas</strong> directamente, es decir, una tupla no dispone de los métodos como append o remove que modifican los elementos de una lista.\n",
        "<br>\n",
        "Para definir una tupla, los elementos se separan con comas y se encierran entre <strong>paréntesis</strong>."
      ],
      "metadata": {
        "id": "4fG-V_e3EK4r"
      }
    },
    {
      "cell_type": "code",
      "source": [
        "tupla_strings=(\"jorge\",\"juan\",\"tania\",\"selene\",\"raul\",\"esteban\",\"jessica\") #declarando una tupla"
      ],
      "metadata": {
        "id": "ExvYA-9aEUbZ"
      },
      "execution_count": 14,
      "outputs": []
    },
    {
      "cell_type": "code",
      "source": [
        "tupla_strings[3] #acceder a los valores"
      ],
      "metadata": {
        "id": "ZaOvzE57EZBq",
        "colab": {
          "base_uri": "https://localhost:8080/",
          "height": 35
        },
        "outputId": "a28228f8-6ec7-4d87-ba53-d4281f483738"
      },
      "execution_count": 15,
      "outputs": [
        {
          "output_type": "execute_result",
          "data": {
            "text/plain": [
              "'selene'"
            ],
            "application/vnd.google.colaboratory.intrinsic+json": {
              "type": "string"
            }
          },
          "metadata": {},
          "execution_count": 15
        }
      ]
    },
    {
      "cell_type": "code",
      "source": [
        "tupla_strings[3]=\"nubia\" #no podemos cambiar valores"
      ],
      "metadata": {
        "id": "Nm5T-OtnE2yS"
      },
      "execution_count": null,
      "outputs": []
    },
    {
      "cell_type": "code",
      "source": [
        "tupla_strings.append(\"nubia\") #no podemos agregar valores"
      ],
      "metadata": {
        "id": "LbRfi20YE9gc"
      },
      "execution_count": null,
      "outputs": []
    },
    {
      "cell_type": "code",
      "source": [
        "tupla_strings.remove(\"jessica\") #no podemos eliminar valores"
      ],
      "metadata": {
        "id": "a1dxZT4mFOPh"
      },
      "execution_count": null,
      "outputs": []
    },
    {
      "cell_type": "markdown",
      "source": [
        "### 0.3 Diccionarios"
      ],
      "metadata": {
        "id": "jnS6gIFFFs3f"
      }
    },
    {
      "cell_type": "markdown",
      "source": [
        "Los diccionarios son estructuras que contienen una colección de elementos de la forma <strong>clave: valor</strong> separados por comas y encerrados entre <strong>llaves</strong>.Necesariamente las claves deben ser únicas en cada diccionario, no así los valores."
      ],
      "metadata": {
        "id": "gicwGf7dFwHd"
      }
    },
    {
      "cell_type": "code",
      "source": [
        "#Declarando un diccionario, notar el uso de llaves y la forma clave valor\n",
        "diccionario_edades={\n",
        "    \"jorge\":23,\n",
        "    \"josue\":55,\n",
        "    \"maria\":23,\n",
        "    \"alina\":18,\n",
        "    \"antuna\":[23,\"México\"]\n",
        "}"
      ],
      "metadata": {
        "id": "5OmarXJCF7_S"
      },
      "execution_count": 17,
      "outputs": []
    },
    {
      "cell_type": "code",
      "source": [
        "diccionario_edades[\"jorge\"] #introduzco la clave y me devuelve el valor"
      ],
      "metadata": {
        "id": "aNFHz-hiGnY1",
        "colab": {
          "base_uri": "https://localhost:8080/"
        },
        "outputId": "8e768a96-2b34-457b-abdc-0839862b8e07"
      },
      "execution_count": 18,
      "outputs": [
        {
          "output_type": "execute_result",
          "data": {
            "text/plain": [
              "23"
            ]
          },
          "metadata": {},
          "execution_count": 18
        }
      ]
    },
    {
      "cell_type": "code",
      "source": [
        "diccionario_edades[\"josue\"] #introduzco la clave y me devuelve el valor"
      ],
      "metadata": {
        "id": "MSOLgOq6KY_F",
        "colab": {
          "base_uri": "https://localhost:8080/"
        },
        "outputId": "68d1ddb2-0639-4a66-c4ac-aa9775ba0f46"
      },
      "execution_count": 19,
      "outputs": [
        {
          "output_type": "execute_result",
          "data": {
            "text/plain": [
              "55"
            ]
          },
          "metadata": {},
          "execution_count": 19
        }
      ]
    },
    {
      "cell_type": "code",
      "source": [
        "diccionario_edades[\"antuna\"] #me devuelve el valor (que es una lista)"
      ],
      "metadata": {
        "id": "f-4sFLrEKdkO",
        "colab": {
          "base_uri": "https://localhost:8080/"
        },
        "outputId": "17a333d7-2a7d-4817-f005-3db1ee01eb24"
      },
      "execution_count": 20,
      "outputs": [
        {
          "output_type": "execute_result",
          "data": {
            "text/plain": [
              "[23, 'México']"
            ]
          },
          "metadata": {},
          "execution_count": 20
        }
      ]
    },
    {
      "cell_type": "code",
      "source": [
        "diccionario_edades[\"antuna\"][1] #acceder al segundo valor dentro de la lista devuelta, hago uso de corchetes"
      ],
      "metadata": {
        "id": "FxpMwVVeG-x7",
        "colab": {
          "base_uri": "https://localhost:8080/",
          "height": 35
        },
        "outputId": "f0dc51fa-d302-493a-c621-b1ead8b8efc4"
      },
      "execution_count": 21,
      "outputs": [
        {
          "output_type": "execute_result",
          "data": {
            "text/plain": [
              "'México'"
            ],
            "application/vnd.google.colaboratory.intrinsic+json": {
              "type": "string"
            }
          },
          "metadata": {},
          "execution_count": 21
        }
      ]
    },
    {
      "cell_type": "code",
      "source": [
        "del diccionario_edades['jorge'] #eliminar valores de un diccionario"
      ],
      "metadata": {
        "id": "fO3SXkDiHUAi"
      },
      "execution_count": 22,
      "outputs": []
    },
    {
      "cell_type": "code",
      "source": [
        "diccionario_edades #ya no aparece jorge"
      ],
      "metadata": {
        "id": "dcDP4RbPIRY6",
        "colab": {
          "base_uri": "https://localhost:8080/"
        },
        "outputId": "a6518b64-107a-4335-fe54-22c40d765083"
      },
      "execution_count": 23,
      "outputs": [
        {
          "output_type": "execute_result",
          "data": {
            "text/plain": [
              "{'alina': 18, 'antuna': [23, 'México'], 'josue': 55, 'maria': 23}"
            ]
          },
          "metadata": {},
          "execution_count": 23
        }
      ]
    },
    {
      "cell_type": "code",
      "source": [
        "diccionario_edades[\"armando\"] = 29 #agregar valores a un diccionario  diccionario[clave] = valor"
      ],
      "metadata": {
        "id": "hi9ybi72IFN4"
      },
      "execution_count": 24,
      "outputs": []
    },
    {
      "cell_type": "code",
      "source": [
        "diccionario_edades #ya aparece armando"
      ],
      "metadata": {
        "id": "byI_knD7IM0k",
        "colab": {
          "base_uri": "https://localhost:8080/"
        },
        "outputId": "05b2ba3d-117f-4a12-8309-5561371dddc8"
      },
      "execution_count": 25,
      "outputs": [
        {
          "output_type": "execute_result",
          "data": {
            "text/plain": [
              "{'alina': 18,\n",
              " 'antuna': [23, 'México'],\n",
              " 'armando': 29,\n",
              " 'josue': 55,\n",
              " 'maria': 23}"
            ]
          },
          "metadata": {},
          "execution_count": 25
        }
      ]
    },
    {
      "cell_type": "markdown",
      "source": [
        "## 1.-Definición de función"
      ],
      "metadata": {
        "id": "OHQfmMO-tIAp"
      }
    },
    {
      "cell_type": "markdown",
      "source": [
        "La programación no solo es escribir código , probarlo y corregir errores, si no también hay que optimizar el código, la base de la optimización es la <strong>programación modular</strong> <br><br>\n",
        "\n",
        "Las <strong>funciones</strong> son una manera conveniente de dividir el código en bloques útiles, permitiendo cierto orden, haciéndolo más leíble, reproducible, escalable y nos permite ser más productivos.\n",
        "\n",
        "En Ciencias de la  Computación, en específico en la programación, usamos las funciones frecuentemente para <strong>aislar la solución</strong> de un problema dado y que pueda <strong>reutilizarse</strong> muchas veces.\n",
        "\n",
        "\n"
      ],
      "metadata": {
        "id": "b7dNK6zdxR21"
      }
    },
    {
      "cell_type": "code",
      "source": [
        "'''\n",
        "Puedo guardar instrucciones que van a ser repetitivas en un bloque de código\n",
        "y llamar ese código cada que lo requiera\n",
        "'''\n",
        "\n",
        "def bienvenida():\n",
        "  print(\"Hola, bienvenido al curso de DS, ten la confianza de preguntar los que desees, empezamos!!\")\n",
        "\n",
        "def despedida():\n",
        "  print(\"Gracias por tomar la clase, espera pronto la próxima, y sigue programando\")"
      ],
      "metadata": {
        "id": "Jzdb9-QYQdSv"
      },
      "execution_count": null,
      "outputs": []
    },
    {
      "cell_type": "code",
      "source": [
        "despedida()"
      ],
      "metadata": {
        "colab": {
          "base_uri": "https://localhost:8080/"
        },
        "id": "aIs8tSznO7Ps",
        "outputId": "8638d5a4-84fb-4422-e044-48c3df765467"
      },
      "execution_count": null,
      "outputs": [
        {
          "output_type": "stream",
          "name": "stdout",
          "text": [
            "Gracias por tomar la clase, espera pronto la próxima, y sigue programando\n"
          ]
        }
      ]
    },
    {
      "cell_type": "markdown",
      "source": [
        "## 2.-Estructura de una función"
      ],
      "metadata": {
        "id": "vPViLPq7tQl0"
      }
    },
    {
      "cell_type": "markdown",
      "source": [
        "<img src=\"https://drive.google.com/uc?export=download&id=1iStT9OsoJedMG3h7Z_b-lnmKHUhcda-j\" >"
      ],
      "metadata": {
        "id": "GgGNHcN6-Kaq"
      }
    },
    {
      "cell_type": "code",
      "source": [
        "'''\n",
        "Ejemplificar la estructura con una función que obtenga el promedio \n",
        "de tres valores dados\n",
        "'''\n",
        "def promedio_3(n1,n2,n3): #definimos la función colocando su nombre y los parámetros\n",
        "  sumar=n1+n2+n3 #creamos una variable auxiliar que sumará los valores\n",
        "  resultado=sumar/3 #definimos un resultado que en este caso será el promedio\n",
        "\n",
        "  return resultado #usamos la palabra reservada return para devolver el resultado"
      ],
      "metadata": {
        "id": "Rke7kCKiRBiA"
      },
      "execution_count": null,
      "outputs": []
    },
    {
      "cell_type": "code",
      "source": [
        "promedio_3(4,4,4)  #cuando invoque la función me debe devolver el promedio"
      ],
      "metadata": {
        "id": "mb0Olc4mPz-D"
      },
      "execution_count": null,
      "outputs": []
    },
    {
      "cell_type": "code",
      "source": [
        "#¿Qué pasa si queremos llamar una variable que se creó dentro de la función?\n",
        "\n",
        "print(suma)\n",
        "\n",
        " #La esperanza de vida de una variable es sólo hasta que acabe la función, una variable, nace y muere en donde se declara\n",
        " #si quitara el return la variable resultado tampoco podría salir de la función"
      ],
      "metadata": {
        "id": "4kbSAo-Ve4kS"
      },
      "execution_count": null,
      "outputs": []
    },
    {
      "cell_type": "markdown",
      "source": [
        "## 3.-Tipos de funciones"
      ],
      "metadata": {
        "id": "Q-6arPd6tc0l"
      }
    },
    {
      "cell_type": "markdown",
      "source": [
        "- 1.  Las funciones **integradas** son aquellas que ya vienen incluidas por default en el programa, ejemplo de estas con help() para preguntar por más información de un método, min() para obtener el valor mínimo, print() para imprimir un objeto en la terminal etc. Puedes encontrar todas las funciones integradas [acá.](https://docs.python.org/3/library/functions.html)\n",
        "<br>"
      ],
      "metadata": {
        "id": "QRqXZdsWKpnb"
      }
    },
    {
      "cell_type": "code",
      "source": [
        "min(23,34,1,2,34)"
      ],
      "metadata": {
        "id": "x8pzKVQR-zij",
        "colab": {
          "base_uri": "https://localhost:8080/"
        },
        "outputId": "0622ec61-80cf-4e3e-a74a-b7e7a7e14887"
      },
      "execution_count": null,
      "outputs": [
        {
          "output_type": "execute_result",
          "data": {
            "text/plain": [
              "1"
            ]
          },
          "metadata": {},
          "execution_count": 35
        }
      ]
    },
    {
      "cell_type": "code",
      "source": [
        "max(23,34,1,2,34)"
      ],
      "metadata": {
        "colab": {
          "base_uri": "https://localhost:8080/"
        },
        "id": "QnYUVwICNPey",
        "outputId": "09c61cb9-d704-4ec5-fd89-c015ced91be0"
      },
      "execution_count": 26,
      "outputs": [
        {
          "output_type": "execute_result",
          "data": {
            "text/plain": [
              "34"
            ]
          },
          "metadata": {},
          "execution_count": 26
        }
      ]
    },
    {
      "cell_type": "code",
      "source": [
        "round(2.343434666,2)"
      ],
      "metadata": {
        "colab": {
          "base_uri": "https://localhost:8080/"
        },
        "id": "aL5nQ7ykQead",
        "outputId": "334ee7e9-0929-41c9-fb1f-150931246907"
      },
      "execution_count": null,
      "outputs": [
        {
          "output_type": "execute_result",
          "data": {
            "text/plain": [
              "2.34"
            ]
          },
          "metadata": {},
          "execution_count": 37
        }
      ]
    },
    {
      "cell_type": "code",
      "source": [
        "help(min)"
      ],
      "metadata": {
        "id": "tpL4GB9JQp2O"
      },
      "execution_count": null,
      "outputs": []
    },
    {
      "cell_type": "markdown",
      "source": [
        "- 2. Las funciones **anónimas**, que también se les llama funciones lambda porque no son declaradas con la palabra reservada def.\n",
        "<br>\n",
        "Las funciones Lambda se comportan como funciones normales. Resultan útiles cuando se desea definir una función pequeña de forma concisa. Pueden contener sólo una expresión, por lo que no son las más adecuadas para funciones con instrucciones de flujo de control."
      ],
      "metadata": {
        "id": "FhoYnigQTvyN"
      }
    },
    {
      "cell_type": "code",
      "source": [
        "sacar_cuadrado=lambda x: x**2\n",
        "sacar_cuadrado(8)"
      ],
      "metadata": {
        "id": "6D5Kj424Xxy6",
        "colab": {
          "base_uri": "https://localhost:8080/"
        },
        "outputId": "9c0914ea-88f0-4402-bdc5-95473fa1c63e"
      },
      "execution_count": 27,
      "outputs": [
        {
          "output_type": "execute_result",
          "data": {
            "text/plain": [
              "64"
            ]
          },
          "metadata": {},
          "execution_count": 27
        }
      ]
    },
    {
      "cell_type": "code",
      "source": [
        "anonima_promedio_3=lambda n1,n2,n3: (n1+n2+n3)/3\n",
        "anonima_promedio_3(13,13,13)"
      ],
      "metadata": {
        "colab": {
          "base_uri": "https://localhost:8080/"
        },
        "id": "TV-A4zxNQ9gO",
        "outputId": "e3dc84fe-0587-4de6-bc21-411ccb37769d"
      },
      "execution_count": 28,
      "outputs": [
        {
          "output_type": "execute_result",
          "data": {
            "text/plain": [
              "13.0"
            ]
          },
          "metadata": {},
          "execution_count": 28
        }
      ]
    },
    {
      "cell_type": "code",
      "source": [
        "'''\n",
        "Estructuramos la misma función de obtener el promedio de tres valores dados, \n",
        "pero ahora en forma anónima\n",
        "'''\n",
        "\n",
        "promedio_3_anonima= lambda n1,n2,n3:(n1+n2+n3)/3\n",
        "promedio_3_anonima(13,13,13)"
      ],
      "metadata": {
        "id": "Zy2LoCrfRGab"
      },
      "execution_count": null,
      "outputs": []
    },
    {
      "cell_type": "markdown",
      "source": [
        "- 3. Las funciones **definidas por el usuario**, que son funciones que los desarrolladores definen para ayudarse a organizar su estructura en bloques. Nuestra funciones de bienvenida y despedida, son ejemplo de estas funciones\n",
        "<br>"
      ],
      "metadata": {
        "id": "DEAFGA4DTtaB"
      }
    },
    {
      "cell_type": "code",
      "source": [
        "def saluda():\n",
        "  print(\"hola, gusto en saludarte\")"
      ],
      "metadata": {
        "id": "IcZ9cetngTPN"
      },
      "execution_count": 29,
      "outputs": []
    },
    {
      "cell_type": "code",
      "source": [
        "saluda()"
      ],
      "metadata": {
        "colab": {
          "base_uri": "https://localhost:8080/"
        },
        "id": "SrU79JJfRezi",
        "outputId": "89720ed3-979a-4d7f-d12f-8dd26029e69c"
      },
      "execution_count": 30,
      "outputs": [
        {
          "output_type": "stream",
          "name": "stdout",
          "text": [
            "hola, gusto en saludarte\n"
          ]
        }
      ]
    },
    {
      "cell_type": "markdown",
      "source": [
        "## 4.-Funciones que reciben argumentos\n"
      ],
      "metadata": {
        "id": "aeI64EWrthAJ"
      }
    },
    {
      "cell_type": "markdown",
      "source": [
        "La función , para poder operar, en muchas ocasiones puede que requiera recibir valores con los cuales trabajar y finalmente conseguir un resultado."
      ],
      "metadata": {
        "id": "2IR2Twg-zbDR"
      }
    },
    {
      "cell_type": "markdown",
      "source": [
        "El término parámetro y argumento puede ser utilizado de manera intercambiable, al final del día se trata de información que se transmite a una función. <br>\n",
        "\n",
        "Siendo estrictos: Los <strong>parámetros son los valores que aceptamos al declarar la función</strong>, mientras que los <strong>argumentos</strong> son los valores que invocamos al ejecutar la función"
      ],
      "metadata": {
        "id": "J9wF7HZMLWp7"
      }
    },
    {
      "cell_type": "code",
      "source": [
        "def saluda(p_nombre,p_apellido):  #los parametros son los valores que aceptamos al declarar la función\n",
        "  print(\"hola\",p_nombre,p_apellido,\"gusto en saludare\")\n",
        "\n",
        "\n",
        "a_nombre_recibido=str(input(\"escribe tu nombre\")) #solicitamos el nombre\n",
        "a_apellido_recibido=str(input(\"escribe tu primer apellido\")) #solicitamos el apellido\n",
        "\n",
        "saluda(a_nombre_recibido,a_apellido_recibido) #los argumentos son los valores que invocamos al ejecutar la función\n",
        "\n",
        "  "
      ],
      "metadata": {
        "id": "C1HCFvlp0BvJ"
      },
      "execution_count": null,
      "outputs": []
    },
    {
      "cell_type": "markdown",
      "source": [
        "Por defecto, una función debe ser llamada con el número correcto y exacto de argumentos. Eso significa que si una función espera 2 argumentos, tienes que llamar la función con esos 2 argumentos, no más ni menos.\n"
      ],
      "metadata": {
        "id": "FOBgcbbDLjd3"
      }
    },
    {
      "cell_type": "code",
      "source": [
        "saluda(\"Julia\",) #¿qué pasa si solamentele pasamos un argumento a nuestra función saluda?"
      ],
      "metadata": {
        "id": "WM96udVbRuLm"
      },
      "execution_count": null,
      "outputs": []
    },
    {
      "cell_type": "code",
      "source": [
        "'''\n",
        "Acotación: Hay diferentes formas de combinar string y variables\n",
        "'''\n",
        "\n",
        "nombre=\"Angela\"\n",
        "apellido=\"Islas\"\n",
        "  \n",
        "print(\"hola\",nombre,apellido,\"gusto en saludare\")\n",
        "print(\"hola \"+ nombre +\" \"+ apellido + \" gusto en saludare\")\n",
        "print(\"hola {} {} gusto en saludare\".format(nombre,apellido))\n",
        "print(f\"hola {nombre} {apellido} gusto en saludarte\")"
      ],
      "metadata": {
        "colab": {
          "base_uri": "https://localhost:8080/"
        },
        "id": "6UAwXLE0OKNQ",
        "outputId": "6425dda3-9592-4cd7-8d92-7a2470715276"
      },
      "execution_count": 38,
      "outputs": [
        {
          "output_type": "stream",
          "name": "stdout",
          "text": [
            "hola Angela Islas gusto en saludare\n",
            "hola Angela Islas gusto en saludare\n",
            "hola Angela Islas gusto en saludare\n",
            "hola Angela Islas gusto en saludarte\n"
          ]
        }
      ]
    },
    {
      "cell_type": "markdown",
      "source": [
        "#### 4.1 Funciones, pueden llamar a otras funciones"
      ],
      "metadata": {
        "id": "SvRN0yj0aDip"
      }
    },
    {
      "cell_type": "markdown",
      "source": [
        "Vamos a hacer un ejemplo de una función que invoque a otras funciones"
      ],
      "metadata": {
        "id": "V-qZfXpkTH_s"
      }
    },
    {
      "cell_type": "code",
      "source": [
        "def saludar(p_nombre,hora):\n",
        "  print(\"hola\",p_nombre,\"gusto en saludare\")\n",
        "  \n",
        "  if hora==6.5:\n",
        "    bienvenida() #invoca a nuestra función creada al inicio\n",
        "  elif hora>6.5 and hora<9.5:\n",
        "    print(\"Estamos en clase\")\n",
        "  else:\n",
        "    despedida() #invoca a nuestra función creada al inicio\n",
        "\n",
        "nombre=str(input(\"escribe tu nombre\"))\n",
        "hora=float(input(\"Introduce una hora\"))\n",
        "\n",
        "saludar(nombre,hora)\n",
        "\n"
      ],
      "metadata": {
        "id": "7fDoaPO0fZWe",
        "colab": {
          "base_uri": "https://localhost:8080/"
        },
        "outputId": "63de4d2d-82a9-4874-cc0b-e8fecbf3c9d5"
      },
      "execution_count": 39,
      "outputs": [
        {
          "output_type": "stream",
          "name": "stdout",
          "text": [
            "escribe tu nombrejose\n",
            "Introduce una hora7\n",
            "hola jose gusto en saludare\n",
            "Estamos en clase\n"
          ]
        }
      ]
    },
    {
      "cell_type": "markdown",
      "source": [
        "### 4.2 Argumentos arbitrarios (*args)"
      ],
      "metadata": {
        "id": "2uf3N3K5AR6u"
      }
    },
    {
      "cell_type": "markdown",
      "source": [
        "Si desconocemos cuántos argumentos serán pasados a tu función, agrega un asterisco (*) antes del nombre del parámetro en la definición de la función.\n",
        "\n",
        "De esta manera la función podrá recibir una tupla de argumentos, y se puede acceder a los elementos ordenadamente:\n"
      ],
      "metadata": {
        "id": "HQVeX4EwLwnZ"
      }
    },
    {
      "cell_type": "code",
      "source": [
        "'''\n",
        "Vamos a crear una función que cuente la cantidad de argumentos que le han sidos pasados\n",
        "'''\n",
        "\n",
        "def contar_todos(*arg):\n",
        "  print(len(arg)) #hacemos uso de una función integrada len()"
      ],
      "metadata": {
        "id": "zVJFPsmLAUvV"
      },
      "execution_count": null,
      "outputs": []
    },
    {
      "cell_type": "code",
      "source": [
        "contar_todos(2,3,2,2,2,2,2,2,2,2)"
      ],
      "metadata": {
        "id": "hQ6olSBpA_6I",
        "colab": {
          "base_uri": "https://localhost:8080/"
        },
        "outputId": "aa772f02-d255-4b75-db39-d61a5c282ecd"
      },
      "execution_count": null,
      "outputs": [
        {
          "output_type": "stream",
          "name": "stdout",
          "text": [
            "10\n"
          ]
        }
      ]
    },
    {
      "cell_type": "code",
      "source": [
        "'''\n",
        "Vamos a crear una función que sume todos argumentos que le han sidos pasados\n",
        "'''\n",
        "\n",
        "def sumar_todos(*valores):\n",
        "  print(sum(valores))  #hacemos uso de una función integrada sum()"
      ],
      "metadata": {
        "id": "AExmhmmnltLt"
      },
      "execution_count": null,
      "outputs": []
    },
    {
      "cell_type": "code",
      "source": [
        "sumar_todos(10,10,20)"
      ],
      "metadata": {
        "id": "kp0NY_36ltgG",
        "colab": {
          "base_uri": "https://localhost:8080/"
        },
        "outputId": "195d38b9-c880-4b36-c20f-b14e8f48880a"
      },
      "execution_count": null,
      "outputs": [
        {
          "output_type": "stream",
          "name": "stdout",
          "text": [
            "40\n"
          ]
        }
      ]
    },
    {
      "cell_type": "code",
      "source": [
        "'''\n",
        "Vamos a crear una función que obtenga el promedio de todos argumentos que le han sidos pasados\n",
        "'''\n",
        "\n",
        "def promedio_todos(*valores):\n",
        "  numero_valores=len(valores)\n",
        "  suma_valores=sum(valores)\n",
        "  print(suma_valores/numero_valores)"
      ],
      "metadata": {
        "id": "TYDPZN9zm4IC"
      },
      "execution_count": 40,
      "outputs": []
    },
    {
      "cell_type": "code",
      "source": [
        "promedio_todos(1,2,3,4,5,6,)"
      ],
      "metadata": {
        "id": "-N1rfpbDmzUT",
        "colab": {
          "base_uri": "https://localhost:8080/"
        },
        "outputId": "18fe9508-7c0d-4f90-c554-e22a1120b2f5"
      },
      "execution_count": 41,
      "outputs": [
        {
          "output_type": "stream",
          "name": "stdout",
          "text": [
            "3.5\n"
          ]
        }
      ]
    },
    {
      "cell_type": "markdown",
      "source": [
        "### 4.3 Valor de parámetros por defecto"
      ],
      "metadata": {
        "id": "h6xUg3RtMGWt"
      }
    },
    {
      "cell_type": "markdown",
      "source": [
        "En algunos lenguajes, como Ruby o Python, podemos asignar un valor por defecto en caso de no recibir uno de los parámetros"
      ],
      "metadata": {
        "id": "8tHNytZI0Cg5"
      }
    },
    {
      "cell_type": "code",
      "source": [
        "'''\n",
        "Vamos a estructurar una función que vaya agregando a una lista de amigos: nombre, celular , país\n",
        "En el caso de no agregar país, por defecto se le asignará \"México\"\n",
        "'''\n",
        "lista_amigos=[]\n",
        "\n",
        "def agregar_amigos(nombre,cel,pais=\"México\"):\n",
        "  lista_amigos.append([nombre,cel,pais])\n",
        "  print(lista_amigos)\n"
      ],
      "metadata": {
        "id": "AiaAFfYAwNQl"
      },
      "execution_count": 42,
      "outputs": []
    },
    {
      "cell_type": "code",
      "source": [
        "agregar_amigos(\"juan\",5566778899)"
      ],
      "metadata": {
        "id": "v3cQVkV6xPpR",
        "colab": {
          "base_uri": "https://localhost:8080/"
        },
        "outputId": "c60e8b60-859a-4575-a111-fbf176616a31"
      },
      "execution_count": 43,
      "outputs": [
        {
          "output_type": "stream",
          "name": "stdout",
          "text": [
            "[['juan', 5566778899, 'México']]\n"
          ]
        }
      ]
    },
    {
      "cell_type": "code",
      "source": [
        "agregar_amigos(\"jose\",5566778899,\"Chile\")"
      ],
      "metadata": {
        "id": "3IHmS9Pb0HhQ",
        "colab": {
          "base_uri": "https://localhost:8080/"
        },
        "outputId": "72ddeb44-3741-4a19-a865-0317c64ecb4f"
      },
      "execution_count": 44,
      "outputs": [
        {
          "output_type": "stream",
          "name": "stdout",
          "text": [
            "[['juan', 5566778899, 'México'], ['jose', 5566778899, 'Chile']]\n"
          ]
        }
      ]
    },
    {
      "cell_type": "code",
      "source": [
        "agregar_amigos(\"alina\",3454567654)"
      ],
      "metadata": {
        "id": "PJKlXfTv0K1o",
        "colab": {
          "base_uri": "https://localhost:8080/"
        },
        "outputId": "d3bee163-c67a-4900-d14d-055610d1c131"
      },
      "execution_count": 45,
      "outputs": [
        {
          "output_type": "stream",
          "name": "stdout",
          "text": [
            "[['juan', 5566778899, 'México'], ['jose', 5566778899, 'Chile'], ['alina', 3454567654, 'México']]\n"
          ]
        }
      ]
    },
    {
      "cell_type": "markdown",
      "source": [
        "### 4.4 Lista como argumento"
      ],
      "metadata": {
        "id": "KvoxMA8zMdor"
      }
    },
    {
      "cell_type": "markdown",
      "source": [
        "\n",
        "Puedes mandar cualquier tipo de dato como argumento a una función(como una cadena de caracteres,una secuencia) y será tratado como el mismo tipo de dato dentro de la función.\n",
        "\n",
        "Por ejemplo, si envías una Lista como un argumento, seguirá siendo una Lista cuando llegue a la función:"
      ],
      "metadata": {
        "id": "I5APaZeGMYjx"
      }
    },
    {
      "cell_type": "code",
      "source": [
        "'''\n",
        "Por ejemplo, la función integrada sum, puede recibir una lista o una tupla con una secuencia de datos\n",
        "'''\n",
        "lista_sumar=[1,2,3,4]\n",
        "tupla_sumar=(1,2,3,4)\n",
        "\n",
        "sum(tupla_sumar) #recibe una tupla, lista"
      ],
      "metadata": {
        "id": "W0hubuRRnuat",
        "colab": {
          "base_uri": "https://localhost:8080/"
        },
        "outputId": "13aa5d4d-c6e4-489c-9764-817514206366"
      },
      "execution_count": 46,
      "outputs": [
        {
          "output_type": "execute_result",
          "data": {
            "text/plain": [
              "10"
            ]
          },
          "metadata": {},
          "execution_count": 46
        }
      ]
    },
    {
      "cell_type": "code",
      "source": [
        "'''\n",
        "ejemplo: vamos a estructurar una función reciba una lista de números,\n",
        "haga una suma y muestre el valor que se va sumando cada vez\n",
        "'''\n",
        "\n",
        "def suma_acumulativa(lista_x):\n",
        "  contador=0\n",
        "  for i in lista_x:\n",
        "    print(\"valor a sumar\",i)\n",
        "    contador+=i\n",
        "    print(\"resultado\",contador)"
      ],
      "metadata": {
        "id": "zgUheIVjdgZB"
      },
      "execution_count": 76,
      "outputs": []
    },
    {
      "cell_type": "code",
      "source": [
        "suma_acumulativa([2,3,4,5])"
      ],
      "metadata": {
        "colab": {
          "base_uri": "https://localhost:8080/"
        },
        "id": "wBs7S6Kpd0hh",
        "outputId": "34481636-a823-4980-c340-41855381bfb8"
      },
      "execution_count": 75,
      "outputs": [
        {
          "output_type": "stream",
          "name": "stdout",
          "text": [
            "valor a sumar 2\n",
            "resultado 2\n",
            "valor a sumar 3\n",
            "resultado 5\n",
            "valor a sumar 4\n",
            "resultado 9\n",
            "valor a sumar 5\n",
            "resultado 14\n"
          ]
        }
      ]
    },
    {
      "cell_type": "markdown",
      "source": [
        "## 5.-Funciones que retornan un valor"
      ],
      "metadata": {
        "id": "FEK7f9xstxtY"
      }
    },
    {
      "cell_type": "markdown",
      "source": [
        "Los datos que manejes dentro de una función solamente se puede utilizar dentro de la función, una variable solamente vive en el lugar donde se le declara, una variable vive donde nace.\n",
        "<br>\n",
        "Entonces, ¿Cómo podría acceder al valor de una variable que se crea dentro de una función?"
      ],
      "metadata": {
        "id": "DHR0zvT81qSF"
      }
    },
    {
      "cell_type": "markdown",
      "source": [
        "La instrucción <strong>return</strong> indica el final de la función pero también el valor que devuelve la función. "
      ],
      "metadata": {
        "id": "u_ob0atwcs-K"
      }
    },
    {
      "cell_type": "markdown",
      "source": [
        "Ejemplo: \n",
        "Crear una función que reciba:\n",
        "<b>kilómetros recorridos</b> en un viaje e imprima la cantidad de <b>litros de gasolina que requirió</b>, teniendo en cuenta un redimiento promedio de\n",
        "<b>18.8</b> kilómetros por litro de gasolina"
      ],
      "metadata": {
        "id": "QeIltAxenhLd"
      }
    },
    {
      "cell_type": "code",
      "source": [
        "def litros_ocupados(kilometros_recorridos):\n",
        "  rendimiento=18.8\n",
        "  resultado=kilometros_recorridos/rendimiento\n",
        "\n",
        "  return resultado"
      ],
      "metadata": {
        "id": "jaTkyhMycfgx"
      },
      "execution_count": 81,
      "outputs": []
    },
    {
      "cell_type": "code",
      "source": [
        "litros=litros_ocupados(125) #agrego la salida a una nueva variable llamada litros"
      ],
      "metadata": {
        "id": "xHEQHObNfrv6"
      },
      "execution_count": 82,
      "outputs": []
    },
    {
      "cell_type": "markdown",
      "source": [
        "Suponiendo que el precio de la gasolina es 27 pesos por litro, ¿Cuánto dinero se requiere para el viaje?"
      ],
      "metadata": {
        "id": "seVReicln0ta"
      }
    },
    {
      "cell_type": "code",
      "source": [
        "'''\n",
        "A diferencia de usar print, cuando retorno una variable, tengo la posibilidad de reutilizar esa variable,\n",
        "que de otra manera \"moriría\" al terminar la función\n",
        "'''\n",
        "\n",
        "litros*27"
      ],
      "metadata": {
        "id": "w-pHQ4dOmAUn",
        "colab": {
          "base_uri": "https://localhost:8080/"
        },
        "outputId": "526d66cd-fd48-42b5-d703-6b594e05e749"
      },
      "execution_count": 153,
      "outputs": [
        {
          "output_type": "execute_result",
          "data": {
            "text/plain": [
              "179.52127659574467"
            ]
          },
          "metadata": {},
          "execution_count": 153
        }
      ]
    },
    {
      "cell_type": "markdown",
      "source": [
        "### 5.1 Retornar multiples valores"
      ],
      "metadata": {
        "id": "cObnW4T_bYt5"
      }
    },
    {
      "cell_type": "markdown",
      "source": [
        "Una función también puede retornar varios valores, puede ser en forma de lista o en forma de tupla"
      ],
      "metadata": {
        "id": "DUUzNkuC0x5P"
      }
    },
    {
      "cell_type": "markdown",
      "source": [
        "Ejemplo: Vamos a estructurar una función que reciba dos números y que los utilice para realizar diferentes operaciones: sumarlos,\n",
        "restarlos, \n",
        "multiplicarlos, \n",
        "y dividirlos"
      ],
      "metadata": {
        "id": "wawwVKWn0kH5"
      }
    },
    {
      "cell_type": "code",
      "source": [
        "def operaciones(n1,n2):\n",
        "  resultado_suma=n1+n2\n",
        "  resultado_resta=n1-n2\n",
        "  resultado_multiplicacion=n1*n2\n",
        "  resultado_division=n1/n2\n",
        "\n",
        "  return [resultado_suma,resultado_resta,resultado_multiplicacion] #devolver valores en forma de lista\n",
        "\n",
        "  '''\n",
        "  return resultado_suma,resultado_resta,resultado_multiplicacion #devolver valores en forma de tupla, pueden llevar o no paréntesis\n",
        "  return {'res_sum':resultado_suma,'res_rest':resultado_resta, 'res_mul':resultado_multiplicacion} #devolver valores en forma de diccionarios\n",
        "  '''"
      ],
      "metadata": {
        "id": "P5grmSz81pb7"
      },
      "execution_count": 146,
      "outputs": []
    },
    {
      "cell_type": "code",
      "source": [
        "valores_retornados=operaciones(100,20) #invocamos la función"
      ],
      "metadata": {
        "id": "9ROJL54ahM-k"
      },
      "execution_count": 147,
      "outputs": []
    },
    {
      "cell_type": "code",
      "source": [
        "valores_retornados[0] #accedemos a la suma"
      ],
      "metadata": {
        "colab": {
          "base_uri": "https://localhost:8080/"
        },
        "id": "NN2wLFVMkuMv",
        "outputId": "fa9f5842-3b0e-42ee-ff52-3dfe89b0e40e"
      },
      "execution_count": 148,
      "outputs": [
        {
          "output_type": "execute_result",
          "data": {
            "text/plain": [
              "120"
            ]
          },
          "metadata": {},
          "execution_count": 148
        }
      ]
    },
    {
      "cell_type": "code",
      "source": [
        "valores_retornados[1] #accedemos a la resta"
      ],
      "metadata": {
        "colab": {
          "base_uri": "https://localhost:8080/"
        },
        "id": "oXjrUs-fk2WW",
        "outputId": "e2498f44-3a96-4157-c8a0-714c419abd78"
      },
      "execution_count": 149,
      "outputs": [
        {
          "output_type": "execute_result",
          "data": {
            "text/plain": [
              "80"
            ]
          },
          "metadata": {},
          "execution_count": 149
        }
      ]
    },
    {
      "cell_type": "code",
      "source": [
        "#el valor que retorna una función, puede asignarse a una variable\n",
        "multiplicacion_salida=valores_retornados[2]"
      ],
      "metadata": {
        "id": "-XGCkinphU5j"
      },
      "execution_count": 150,
      "outputs": []
    },
    {
      "cell_type": "markdown",
      "source": [
        "## 6.- Ejercicios (challenge)"
      ],
      "metadata": {
        "id": "e0JefB6B01vo"
      }
    },
    {
      "cell_type": "markdown",
      "source": [
        "1.- Estructurar una función que reciba una lista y que imprima en pantalla , sólo valores impares"
      ],
      "metadata": {
        "id": "O8hDr8ZWsSpk"
      }
    },
    {
      "cell_type": "code",
      "source": [
        "def imprimir_impares(lista): #definimos la función que recibirá un parámetro\n",
        "  for i in lista: #iteramos una variable \"i\" en cada uno de los elementos que fueron pasados\n",
        "    if i%2!=0: #si el residuo del valor \"i\" entre 2 es igual a 0 (es decir que es impar)\n",
        "      print(i) #entonces imprime \"i\""
      ],
      "metadata": {
        "id": "jLz9pDSGlHr8"
      },
      "execution_count": 154,
      "outputs": []
    },
    {
      "cell_type": "code",
      "source": [
        "lista_j=[1,2,3,4,5,6,7,8,9] #declaramos una secuencia llamada \"lista j\"\n",
        "imprimir_impares(lista_j) #pasamos la lista como argumento a nuestra función"
      ],
      "metadata": {
        "colab": {
          "base_uri": "https://localhost:8080/"
        },
        "id": "EOxp8Be4lMTs",
        "outputId": "a592ae61-4d47-45e2-d160-0d3354d23bd8"
      },
      "execution_count": 155,
      "outputs": [
        {
          "output_type": "stream",
          "name": "stdout",
          "text": [
            "1\n",
            "3\n",
            "5\n",
            "7\n",
            "9\n"
          ]
        }
      ]
    },
    {
      "cell_type": "markdown",
      "source": [
        "2.-Un grupo de amigos tiene una bolsa de caramelos, han decidido dividirse los caramelos en partes iguales y los caramelos sobrantes regalarlos <br>\n",
        "\n",
        "Estructurar una función que reciba la cantidad de caramelos en la bolsa y el número de amigos , dicha función tiene que regresar; la cantidad de caramelos que le toca a cada uno y la cantidad de caramelos que van a regalar"
      ],
      "metadata": {
        "id": "-j-OOAyznQz_"
      }
    },
    {
      "cell_type": "code",
      "source": [
        "def caramelos(caramelos_bolsa,numero_amigos): #defino la funcion caramelos que reciba dos parámetros; caramelos en la bolsa y número de amigos\n",
        "  cantidad_cada_uno=caramelos_bolsa // numero_amigos #obtengo la división de enteros\n",
        "  caramelos_regalar=caramelos_bolsa % numero_amigos #obtengo el valor residual\n",
        "\n",
        "  return cantidad_cada_uno,caramelos_regalar #regreso (en forma de tupla) mis dos variables creadas"
      ],
      "metadata": {
        "id": "7cdtWGJymamp"
      },
      "execution_count": 98,
      "outputs": []
    },
    {
      "cell_type": "code",
      "source": [
        "resultado=caramelos(25,5) #invoco a la función\n",
        "\n",
        "repartidos=resultado[0] #accedo a su resultado en la posición 0\n",
        "sobrantes=resultado[1] #accedo a su resultado en la posición 1\n",
        "\n",
        "print(\"caramelos a cada uno\", repartidos) #imprimo los resultados\n",
        "print(\"caramelos a regalar\",sobrantes)"
      ],
      "metadata": {
        "colab": {
          "base_uri": "https://localhost:8080/"
        },
        "id": "WWcP3nqrmikk",
        "outputId": "8a06a781-84e2-4cc9-821c-dc32b2a93c49"
      },
      "execution_count": 156,
      "outputs": [
        {
          "output_type": "stream",
          "name": "stdout",
          "text": [
            "caramelos a cada uno 5\n",
            "caramelos a regalar 0\n"
          ]
        }
      ]
    },
    {
      "cell_type": "markdown",
      "source": [
        "3.- Diseñar una función que reciba una secuencia de números y que imprima la suma de sólo valores impares dentro de la lista"
      ],
      "metadata": {
        "id": "uOYSqdfoagzh"
      }
    },
    {
      "cell_type": "code",
      "source": [
        "def sumar_impares(lista): #defino la función\n",
        "  sumando=0 #creo una variable que me servirá como contador\n",
        "  for k in lista: #recorro cada uno de los elementos de la lista con una variable \"k\"\n",
        "    if k%2!=0: #si el valor de la variable en turno es impar\n",
        "      sumando += k #entonces incrementa el contador en el valor de k\n",
        "  print(sumando) #ve imprimiendo el contador"
      ],
      "metadata": {
        "id": "cTe8DOINo3Uz"
      },
      "execution_count": 161,
      "outputs": []
    },
    {
      "cell_type": "code",
      "source": [
        "sumar_impares([1,2,3,4,5])"
      ],
      "metadata": {
        "colab": {
          "base_uri": "https://localhost:8080/"
        },
        "id": "1PZbPbJBo5g0",
        "outputId": "8766005e-eb48-4da0-bd81-13eff2b2b608"
      },
      "execution_count": 162,
      "outputs": [
        {
          "output_type": "stream",
          "name": "stdout",
          "text": [
            "9\n"
          ]
        }
      ]
    },
    {
      "cell_type": "markdown",
      "source": [
        "4.- Desarrollar una función que reciba una serie de números , que elimine el número mayor y el número menor y que obtenga el promedio de los números restantes"
      ],
      "metadata": {
        "id": "HVm8P1qwXw9q"
      }
    },
    {
      "cell_type": "code",
      "source": [
        "def media_recortada(*args): #mi función recibirá valores arbitrarios\n",
        "  lista=(list(args)) #transformo la entrada en una lista\n",
        "  minimo=min(args) #obtengo el valor mínimo\n",
        "  maximo=max(args) #obtengo el valor máximo\n",
        "  \n",
        "  lista.remove(minimo) #elimino tanto el valor mínimo como el máximo\n",
        "  lista.remove(maximo)\n",
        "\n",
        "  tamanio=len(lista) #obtengo el tamaño de la lista una vez que elimine los extremos\n",
        "\n",
        "\n",
        "  print(sum(lista)/tamanio) #obtengo e imprimo el promedio\n"
      ],
      "metadata": {
        "id": "oAruB8WXny_l"
      },
      "execution_count": 112,
      "outputs": []
    },
    {
      "cell_type": "code",
      "source": [
        "media_recortada(2,3,4,5)"
      ],
      "metadata": {
        "colab": {
          "base_uri": "https://localhost:8080/"
        },
        "id": "bgeebb9kn9kP",
        "outputId": "51101a0e-d2f5-4614-9ae5-d5f77eebc3c9"
      },
      "execution_count": 113,
      "outputs": [
        {
          "output_type": "stream",
          "name": "stdout",
          "text": [
            "3.5\n"
          ]
        }
      ]
    },
    {
      "cell_type": "markdown",
      "source": [
        "5.-Estructura una función que reciba kilómetros recorridos, y modelo de auto(ignis,aveo, vitara), y que imprima  la cantidad de dinero que se requiere para hacer un viaje, tomando en cuenta que el precio de la gasolina es de 27 pesos por litro y los rendimientos por cada modelo son:\n",
        "\n",
        "- ingnis 20 km/l\n",
        "- aveo 16 km/l\n",
        "- vitara 15.3 km/l"
      ],
      "metadata": {
        "id": "WgRSTwEzrdaZ"
      }
    },
    {
      "cell_type": "code",
      "source": [
        "def sacar_presupuesto(kilometros,modelo):\n",
        "  if modelo==\"aveo\":\n",
        "    rendimiento=16\n",
        "  elif modelo==\"ignis\":\n",
        "    rendimiento=20\n",
        "  else:\n",
        "    rendimiento=15.3\n",
        "\n",
        "  resultado=(kilometros/rendimiento)*27\n",
        "  print(\"el presupuesto necesario es de \",round(resultado,1), \" pesos\") #resultado redondeado a 1 decimal\n",
        "  print(\"el presupuesto necesario es de \",resultado, \" pesos\")"
      ],
      "metadata": {
        "id": "w5a7hktzpR10"
      },
      "execution_count": 159,
      "outputs": []
    },
    {
      "cell_type": "code",
      "source": [
        "sacar_presupuesto(1234,\"aveo\")"
      ],
      "metadata": {
        "colab": {
          "base_uri": "https://localhost:8080/"
        },
        "id": "nWXjBFGUpSwi",
        "outputId": "d6ad3b8b-53a6-40d6-8648-f6dcb97f27e3"
      },
      "execution_count": 160,
      "outputs": [
        {
          "output_type": "stream",
          "name": "stdout",
          "text": [
            "el presupuesto necesario es de  2082.4  pesos\n",
            "el presupuesto necesario es de  2082.375  pesos\n"
          ]
        }
      ]
    },
    {
      "cell_type": "markdown",
      "source": [
        "## 7.- Recursos y meta recursos"
      ],
      "metadata": {
        "id": "RQrpc_OEIDw-"
      }
    },
    {
      "cell_type": "markdown",
      "source": [
        "[**Python Crash Course 2da edición**](https://drive.google.com/file/d/1RPfWSa5iBm0ZJRjSNWvVXL1ggnqY5rLK/view)"
      ],
      "metadata": {
        "id": "anImSsjaIKjf"
      }
    },
    {
      "cell_type": "markdown",
      "source": [
        "[**Python Tutorial for Absolute Beginners**](https://www.youtube.com/watch?v=u-OmVr_fT4s)"
      ],
      "metadata": {
        "id": "RVPWfi22I_rM"
      }
    },
    {
      "cell_type": "markdown",
      "source": [
        "[**Learn X in Y minutes where X= Python**](https://learnxinyminutes.com/docs/python/)"
      ],
      "metadata": {
        "id": "Vnzoja3mIg34"
      }
    },
    {
      "cell_type": "markdown",
      "source": [
        "[**9 ejercicios de funciones en Python**](https://pynative.com/python-functions-exercise-with-solutions/)"
      ],
      "metadata": {
        "id": "stR0ijI92xgV"
      }
    },
    {
      "cell_type": "markdown",
      "source": [
        "[**21 ejercicios de funciones en Python**](https://www.w3resource.com/python-exercises/python-functions-exercises.php)"
      ],
      "metadata": {
        "id": "1MZg-kBn3I8a"
      }
    }
  ]
}